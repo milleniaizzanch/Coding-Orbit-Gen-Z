{
  "nbformat": 4,
  "nbformat_minor": 0,
  "metadata": {
    "kernelspec": {
      "display_name": "Python 3",
      "language": "python",
      "name": "python3"
    },
    "language_info": {
      "codemirror_mode": {
        "name": "ipython",
        "version": 3
      },
      "file_extension": ".py",
      "mimetype": "text/x-python",
      "name": "python",
      "nbconvert_exporter": "python",
      "pygments_lexer": "ipython3",
      "version": "3.7.4"
    },
    "colab": {
      "name": "NumPy.ipynb",
      "provenance": [],
      "collapsed_sections": [
        "8BMfhvv-sXfM",
        "GvxDvjehsXfV",
        "ehcBOP9bsXfW",
        "AkyEI85ksXfW",
        "Kol10r-osXfX",
        "ZVnL95OOsXfY",
        "5vpVImUnsXfY",
        "pJX3WY_psXfZ",
        "lLPJfi4ssXfa",
        "BRJPEnx2sXfa",
        "Xlq3z_SHsXfb",
        "wFbDy13TsXfi",
        "GOulWFo2sXfi",
        "VlnWPKVnsXfk",
        "fDW0MhWrsXfl",
        "Ga0tHa8FsXfl",
        "z0rOqTdCsXfm",
        "m5eiZmzfsXfm",
        "4pPPFvTPsXfn",
        "ww7suH0CsXfo",
        "6W7cvChWsXfp",
        "9oCKYAf1sXfq",
        "RRVfnzjrsXfq",
        "NvyzG5_isXfr",
        "8aqmEqA_sXfs",
        "vjDPekhcsXft",
        "huVZNc0ZsXfu",
        "5Y4m6L6EsXfv",
        "hKQPVLBgsXfw",
        "nkos5wdQsXfw",
        "7Y4O8SnUsXfx",
        "drLOEvRpsXfy",
        "hlgx2dUjsXfy",
        "zyMN1FMgsXf1",
        "rPfu4GJIsXf2",
        "apfYFg4jsXf3",
        "2dkMqyFVsXf4",
        "7RNzpi_KsXf5",
        "UDQZAnwbsXf5",
        "cW5VXqInsXf6",
        "tk9tOHi0sXf7",
        "s-1r6us6sXf8",
        "DH1aBOkjsXf9",
        "Qz39qsJqsXf9",
        "xs6tA9cusXf-",
        "1WwvFYnJsXgA",
        "8vPo_C93sXgA",
        "k0lYA6ulsXgB",
        "s0gpp_R7sXgB",
        "0sBAzX6DsXgC",
        "--wIKGEUsXgD",
        "1d9ruoHFsXgE",
        "_W7JKsxssXgF",
        "TI6yUZxNsXgG",
        "YZ7TuXPGsXgG",
        "sEA8OJQ1sXgG",
        "bSmI_piJsXgH"
      ],
      "include_colab_link": true
    }
  },
  "cells": [
    {
      "cell_type": "markdown",
      "metadata": {
        "id": "view-in-github",
        "colab_type": "text"
      },
      "source": [
        "<a href=\"https://colab.research.google.com/github/milleniaizzanch/Coding-Orbit-Gen-Z/blob/main/NumPy.ipynb\" target=\"_parent\"><img src=\"https://colab.research.google.com/assets/colab-badge.svg\" alt=\"Open In Colab\"/></a>"
      ]
    },
    {
      "cell_type": "markdown",
      "metadata": {
        "id": "OsrL4DDnsXet"
      },
      "source": [
        "# NumPy\n",
        "The NumPy library is the core library for scientific computing in Python. It provides a high-performance multidimensional array object, and tools for working with these arrays. "
      ]
    },
    {
      "cell_type": "markdown",
      "metadata": {
        "id": "o5uuDGr3sXe0"
      },
      "source": [
        "# Creating Arrays"
      ]
    },
    {
      "cell_type": "code",
      "metadata": {
        "id": "CpCv_BY1sXe2"
      },
      "source": [
        "# Import Library NumPy\n",
        "import numpy as np\n",
        "\n",
        "# Contoh Membuat Array\n",
        "a = np.array([1,2,3])\n",
        "b = np.array([(1.5,2,3), (4,5,6)], dtype = float)\n",
        "c = np.array([[(1.5,2,3), (4,5,6)], [(3,2,1), (4,5,6)]], dtype = float)"
      ],
      "execution_count": 1,
      "outputs": []
    },
    {
      "cell_type": "code",
      "metadata": {
        "id": "ltSlc4F6sXe4",
        "outputId": "762025a7-d4df-41e8-92bb-16dc73df259c",
        "colab": {
          "base_uri": "https://localhost:8080/"
        }
      },
      "source": [
        "# Menampilkan Array a \n",
        "a"
      ],
      "execution_count": 2,
      "outputs": [
        {
          "output_type": "execute_result",
          "data": {
            "text/plain": [
              "array([1, 2, 3])"
            ]
          },
          "metadata": {},
          "execution_count": 2
        }
      ]
    },
    {
      "cell_type": "code",
      "metadata": {
        "id": "-DqwT4pysXe7",
        "outputId": "081ee39f-8de6-4d48-8491-47736c5db5b9",
        "colab": {
          "base_uri": "https://localhost:8080/"
        }
      },
      "source": [
        "# Menampilkan Array b\n",
        "b"
      ],
      "execution_count": 3,
      "outputs": [
        {
          "output_type": "execute_result",
          "data": {
            "text/plain": [
              "array([[1.5, 2. , 3. ],\n",
              "       [4. , 5. , 6. ]])"
            ]
          },
          "metadata": {},
          "execution_count": 3
        }
      ]
    },
    {
      "cell_type": "code",
      "metadata": {
        "id": "u52vys8xsXe8",
        "outputId": "c0309b31-97b6-4125-c9a7-6659ab321ace",
        "colab": {
          "base_uri": "https://localhost:8080/"
        }
      },
      "source": [
        "# Menampilkan Array c\n",
        "c"
      ],
      "execution_count": 4,
      "outputs": [
        {
          "output_type": "execute_result",
          "data": {
            "text/plain": [
              "array([[[1.5, 2. , 3. ],\n",
              "        [4. , 5. , 6. ]],\n",
              "\n",
              "       [[3. , 2. , 1. ],\n",
              "        [4. , 5. , 6. ]]])"
            ]
          },
          "metadata": {},
          "execution_count": 4
        }
      ]
    },
    {
      "cell_type": "markdown",
      "metadata": {
        "id": "uBCrp4qqsXe8"
      },
      "source": [
        "### Initial Placeholders"
      ]
    },
    {
      "cell_type": "code",
      "metadata": {
        "id": "wUiUZOCJsXe9",
        "outputId": "aa7e62e9-32e8-4c9a-bba4-413268c450de",
        "colab": {
          "base_uri": "https://localhost:8080/"
        }
      },
      "source": [
        "# Create an array of zeros\n",
        "np.zeros((3,4))"
      ],
      "execution_count": 5,
      "outputs": [
        {
          "output_type": "execute_result",
          "data": {
            "text/plain": [
              "array([[0., 0., 0., 0.],\n",
              "       [0., 0., 0., 0.],\n",
              "       [0., 0., 0., 0.]])"
            ]
          },
          "metadata": {},
          "execution_count": 5
        }
      ]
    },
    {
      "cell_type": "code",
      "metadata": {
        "id": "Fou7n_UtsXe_",
        "outputId": "1f4e6c07-965d-4a14-a7d5-ef2960f73b44",
        "colab": {
          "base_uri": "https://localhost:8080/"
        }
      },
      "source": [
        "# Create an array of ones\n",
        "np.ones((2,3,4),dtype=np.int16)"
      ],
      "execution_count": 6,
      "outputs": [
        {
          "output_type": "execute_result",
          "data": {
            "text/plain": [
              "array([[[1, 1, 1, 1],\n",
              "        [1, 1, 1, 1],\n",
              "        [1, 1, 1, 1]],\n",
              "\n",
              "       [[1, 1, 1, 1],\n",
              "        [1, 1, 1, 1],\n",
              "        [1, 1, 1, 1]]], dtype=int16)"
            ]
          },
          "metadata": {},
          "execution_count": 6
        }
      ]
    },
    {
      "cell_type": "code",
      "metadata": {
        "id": "BzZtFU8WsXfB",
        "outputId": "f12023c0-4ecb-47a0-87d6-0dbe3f298376",
        "colab": {
          "base_uri": "https://localhost:8080/"
        }
      },
      "source": [
        "# Create an array of evenly spaced values (step value)\n",
        "d = np.arange(10,25,5)\n",
        "d"
      ],
      "execution_count": 7,
      "outputs": [
        {
          "output_type": "execute_result",
          "data": {
            "text/plain": [
              "array([10, 15, 20])"
            ]
          },
          "metadata": {},
          "execution_count": 7
        }
      ]
    },
    {
      "cell_type": "code",
      "metadata": {
        "id": "-3xlgc-MsXfD",
        "outputId": "0c919778-41be-4a42-ac43-4231eb698708",
        "colab": {
          "base_uri": "https://localhost:8080/"
        }
      },
      "source": [
        "# Create an array of evenly spaced values (number of samples)\n",
        "np.linspace(0,2,9)"
      ],
      "execution_count": 8,
      "outputs": [
        {
          "output_type": "execute_result",
          "data": {
            "text/plain": [
              "array([0.  , 0.25, 0.5 , 0.75, 1.  , 1.25, 1.5 , 1.75, 2.  ])"
            ]
          },
          "metadata": {},
          "execution_count": 8
        }
      ]
    },
    {
      "cell_type": "code",
      "metadata": {
        "id": "NRx_PBvssXfF",
        "outputId": "7d089462-e240-410a-af91-a9eedb72cbaf",
        "colab": {
          "base_uri": "https://localhost:8080/"
        }
      },
      "source": [
        "# Create a constant array\n",
        "e = np.full((2,2),7)\n",
        "e"
      ],
      "execution_count": 9,
      "outputs": [
        {
          "output_type": "execute_result",
          "data": {
            "text/plain": [
              "array([[7, 7],\n",
              "       [7, 7]])"
            ]
          },
          "metadata": {},
          "execution_count": 9
        }
      ]
    },
    {
      "cell_type": "code",
      "metadata": {
        "id": "CdQdmJ9QsXfG",
        "outputId": "8fda89a5-a1d4-4177-b1ad-fe2eaaa690b4",
        "colab": {
          "base_uri": "https://localhost:8080/"
        }
      },
      "source": [
        "# Create a 2X2 identity matrix\n",
        "f = np.eye(2)\n",
        "f"
      ],
      "execution_count": 10,
      "outputs": [
        {
          "output_type": "execute_result",
          "data": {
            "text/plain": [
              "array([[1., 0.],\n",
              "       [0., 1.]])"
            ]
          },
          "metadata": {},
          "execution_count": 10
        }
      ]
    },
    {
      "cell_type": "code",
      "metadata": {
        "id": "Pazodo1TsXfI",
        "outputId": "a502bd9a-1e6d-4ca3-a906-6a03c7c0497c",
        "colab": {
          "base_uri": "https://localhost:8080/"
        }
      },
      "source": [
        "# Create an array with random values\n",
        "np.random.random((2,2))"
      ],
      "execution_count": 11,
      "outputs": [
        {
          "output_type": "execute_result",
          "data": {
            "text/plain": [
              "array([[0.9804249 , 0.16916526],\n",
              "       [0.30155041, 0.39194491]])"
            ]
          },
          "metadata": {},
          "execution_count": 11
        }
      ]
    },
    {
      "cell_type": "code",
      "metadata": {
        "id": "YAXZu66UsXfK",
        "outputId": "48fe77e4-b4a2-40fc-e74f-4a89ea02230b",
        "colab": {
          "base_uri": "https://localhost:8080/"
        }
      },
      "source": [
        "# Create an empty array\n",
        "np.empty((3,2))"
      ],
      "execution_count": 12,
      "outputs": [
        {
          "output_type": "execute_result",
          "data": {
            "text/plain": [
              "array([[1.5, 2. ],\n",
              "       [3. , 4. ],\n",
              "       [5. , 6. ]])"
            ]
          },
          "metadata": {},
          "execution_count": 12
        }
      ]
    },
    {
      "cell_type": "markdown",
      "metadata": {
        "id": "cxKO4BrYsXfL"
      },
      "source": [
        "# Input Output"
      ]
    },
    {
      "cell_type": "markdown",
      "metadata": {
        "id": "8BMfhvv-sXfM"
      },
      "source": [
        "### Saving & Loading On Disk"
      ]
    },
    {
      "cell_type": "code",
      "metadata": {
        "id": "qPZklA6NsXfM"
      },
      "source": [
        "# np.save('my_array', a)\n",
        "# np.savez('array.npz', a, b)\n",
        "# np.load('my_array.npy')"
      ],
      "execution_count": 13,
      "outputs": []
    },
    {
      "cell_type": "code",
      "metadata": {
        "id": "cEiCJM-DsXfN"
      },
      "source": [
        "# np.loadtxt(\"myfile.txt\")\n",
        "# np.genfromtxt(\"my_file.csv\", delimiter=',')\n",
        "# np.savetxt(\"myarray.txt\", a, delimiter=\" \")"
      ],
      "execution_count": 14,
      "outputs": []
    },
    {
      "cell_type": "markdown",
      "metadata": {
        "id": "uv0Ye4HosXfO"
      },
      "source": [
        "# Data Types"
      ]
    },
    {
      "cell_type": "code",
      "metadata": {
        "id": "pFFFXo_tsXfP",
        "outputId": "41015849-731b-41c2-fd07-899262bb5be3",
        "colab": {
          "base_uri": "https://localhost:8080/"
        }
      },
      "source": [
        "# Signed 64-bit integer types\n",
        "np.int64"
      ],
      "execution_count": 15,
      "outputs": [
        {
          "output_type": "execute_result",
          "data": {
            "text/plain": [
              "numpy.int64"
            ]
          },
          "metadata": {},
          "execution_count": 15
        }
      ]
    },
    {
      "cell_type": "code",
      "metadata": {
        "id": "nSX98S3osXfQ",
        "outputId": "60890487-babc-4646-bf76-a076a29ef8bd",
        "colab": {
          "base_uri": "https://localhost:8080/"
        }
      },
      "source": [
        "# Standard double-precision floating point\n",
        "np.float32"
      ],
      "execution_count": 16,
      "outputs": [
        {
          "output_type": "execute_result",
          "data": {
            "text/plain": [
              "numpy.float32"
            ]
          },
          "metadata": {},
          "execution_count": 16
        }
      ]
    },
    {
      "cell_type": "code",
      "metadata": {
        "id": "8AnsriyJsXfQ",
        "outputId": "8478ed04-369c-450e-d866-8c54c990ee5d",
        "colab": {
          "base_uri": "https://localhost:8080/"
        }
      },
      "source": [
        "# Complex numbers represented by 128 floats\n",
        "np.complex"
      ],
      "execution_count": 17,
      "outputs": [
        {
          "output_type": "stream",
          "name": "stderr",
          "text": [
            "/usr/local/lib/python3.7/dist-packages/ipykernel_launcher.py:2: DeprecationWarning: `np.complex` is a deprecated alias for the builtin `complex`. To silence this warning, use `complex` by itself. Doing this will not modify any behavior and is safe. If you specifically wanted the numpy scalar type, use `np.complex128` here.\n",
            "Deprecated in NumPy 1.20; for more details and guidance: https://numpy.org/devdocs/release/1.20.0-notes.html#deprecations\n",
            "  \n"
          ]
        },
        {
          "output_type": "execute_result",
          "data": {
            "text/plain": [
              "complex"
            ]
          },
          "metadata": {},
          "execution_count": 17
        }
      ]
    },
    {
      "cell_type": "code",
      "metadata": {
        "id": "oY5ftp0SsXfR",
        "outputId": "e7c1467b-0d79-40fe-858a-c0101f802663",
        "colab": {
          "base_uri": "https://localhost:8080/"
        }
      },
      "source": [
        "# Boolean type storing TRUE and FALSE values\n",
        "np.bool"
      ],
      "execution_count": 18,
      "outputs": [
        {
          "output_type": "stream",
          "name": "stderr",
          "text": [
            "/usr/local/lib/python3.7/dist-packages/ipykernel_launcher.py:2: DeprecationWarning: `np.bool` is a deprecated alias for the builtin `bool`. To silence this warning, use `bool` by itself. Doing this will not modify any behavior and is safe. If you specifically wanted the numpy scalar type, use `np.bool_` here.\n",
            "Deprecated in NumPy 1.20; for more details and guidance: https://numpy.org/devdocs/release/1.20.0-notes.html#deprecations\n",
            "  \n"
          ]
        },
        {
          "output_type": "execute_result",
          "data": {
            "text/plain": [
              "bool"
            ]
          },
          "metadata": {},
          "execution_count": 18
        }
      ]
    },
    {
      "cell_type": "code",
      "metadata": {
        "id": "dtlVvXWusXfR",
        "outputId": "a4c93908-255b-48d8-a9cd-f28023632269",
        "colab": {
          "base_uri": "https://localhost:8080/"
        }
      },
      "source": [
        "# Python object type\n",
        "np.object"
      ],
      "execution_count": 19,
      "outputs": [
        {
          "output_type": "stream",
          "name": "stderr",
          "text": [
            "/usr/local/lib/python3.7/dist-packages/ipykernel_launcher.py:2: DeprecationWarning: `np.object` is a deprecated alias for the builtin `object`. To silence this warning, use `object` by itself. Doing this will not modify any behavior and is safe. \n",
            "Deprecated in NumPy 1.20; for more details and guidance: https://numpy.org/devdocs/release/1.20.0-notes.html#deprecations\n",
            "  \n"
          ]
        },
        {
          "output_type": "execute_result",
          "data": {
            "text/plain": [
              "object"
            ]
          },
          "metadata": {},
          "execution_count": 19
        }
      ]
    },
    {
      "cell_type": "code",
      "metadata": {
        "id": "_60WJw1nsXfR",
        "outputId": "64194197-e44a-401c-e38e-1e3e5c7e9649",
        "colab": {
          "base_uri": "https://localhost:8080/"
        }
      },
      "source": [
        "# Fixed-length string type\n",
        "np.string_"
      ],
      "execution_count": 20,
      "outputs": [
        {
          "output_type": "execute_result",
          "data": {
            "text/plain": [
              "numpy.bytes_"
            ]
          },
          "metadata": {},
          "execution_count": 20
        }
      ]
    },
    {
      "cell_type": "code",
      "metadata": {
        "id": "L3OS49w1sXfS",
        "outputId": "e523a244-0f8b-450b-826b-7eb92a9841b6",
        "colab": {
          "base_uri": "https://localhost:8080/"
        }
      },
      "source": [
        "# Fixed-length unicode type\n",
        "np.unicode_"
      ],
      "execution_count": 21,
      "outputs": [
        {
          "output_type": "execute_result",
          "data": {
            "text/plain": [
              "numpy.str_"
            ]
          },
          "metadata": {},
          "execution_count": 21
        }
      ]
    },
    {
      "cell_type": "markdown",
      "metadata": {
        "id": "YHAybfgCsXfS"
      },
      "source": [
        "# Inspecting Your Array "
      ]
    },
    {
      "cell_type": "code",
      "metadata": {
        "id": "MrIzecU7sXfS",
        "outputId": "68358619-4f79-4547-a260-cfe2b160a76b",
        "colab": {
          "base_uri": "https://localhost:8080/"
        }
      },
      "source": [
        "# Array dimensions\n",
        "a.shape"
      ],
      "execution_count": 22,
      "outputs": [
        {
          "output_type": "execute_result",
          "data": {
            "text/plain": [
              "(3,)"
            ]
          },
          "metadata": {},
          "execution_count": 22
        }
      ]
    },
    {
      "cell_type": "code",
      "metadata": {
        "id": "NnDuRgZDsXfT",
        "outputId": "1029ad95-53e3-4d24-d66a-7ee205dd8e1d",
        "colab": {
          "base_uri": "https://localhost:8080/"
        }
      },
      "source": [
        "# Length of array\n",
        "len(a)"
      ],
      "execution_count": 23,
      "outputs": [
        {
          "output_type": "execute_result",
          "data": {
            "text/plain": [
              "3"
            ]
          },
          "metadata": {},
          "execution_count": 23
        }
      ]
    },
    {
      "cell_type": "code",
      "metadata": {
        "id": "ClPcfujusXfT",
        "outputId": "65916c94-c0dc-4561-9a13-d89eb62e4dc6",
        "colab": {
          "base_uri": "https://localhost:8080/"
        }
      },
      "source": [
        "# Number of array dimensions\n",
        "b.ndim"
      ],
      "execution_count": 24,
      "outputs": [
        {
          "output_type": "execute_result",
          "data": {
            "text/plain": [
              "2"
            ]
          },
          "metadata": {},
          "execution_count": 24
        }
      ]
    },
    {
      "cell_type": "code",
      "metadata": {
        "id": "EG7raI5NsXfT",
        "outputId": "85366c03-e795-4d58-c619-8c4d98779cb3",
        "colab": {
          "base_uri": "https://localhost:8080/"
        }
      },
      "source": [
        "# Number of array elements\n",
        "e.size"
      ],
      "execution_count": 25,
      "outputs": [
        {
          "output_type": "execute_result",
          "data": {
            "text/plain": [
              "4"
            ]
          },
          "metadata": {},
          "execution_count": 25
        }
      ]
    },
    {
      "cell_type": "code",
      "metadata": {
        "id": "qxEsVp9ssXfT",
        "outputId": "9581eb47-0c5c-40f0-c907-efc12669a7e4",
        "colab": {
          "base_uri": "https://localhost:8080/"
        }
      },
      "source": [
        "# Data type of array elements\n",
        "b.dtype"
      ],
      "execution_count": 26,
      "outputs": [
        {
          "output_type": "execute_result",
          "data": {
            "text/plain": [
              "dtype('float64')"
            ]
          },
          "metadata": {},
          "execution_count": 26
        }
      ]
    },
    {
      "cell_type": "code",
      "metadata": {
        "id": "B_LIh-0isXfU",
        "outputId": "8dbe2754-8a6b-4d6c-a55b-69c440dcd1d3",
        "colab": {
          "base_uri": "https://localhost:8080/",
          "height": 35
        }
      },
      "source": [
        "# Name of data type\n",
        "b.dtype.name"
      ],
      "execution_count": 27,
      "outputs": [
        {
          "output_type": "execute_result",
          "data": {
            "text/plain": [
              "'float64'"
            ],
            "application/vnd.google.colaboratory.intrinsic+json": {
              "type": "string"
            }
          },
          "metadata": {},
          "execution_count": 27
        }
      ]
    },
    {
      "cell_type": "code",
      "metadata": {
        "id": "Geejui8TsXfU",
        "outputId": "b52ab8d3-cc0e-49a9-f051-cb58005d84e2",
        "colab": {
          "base_uri": "https://localhost:8080/"
        }
      },
      "source": [
        "# Convert an array to a different type\n",
        "b.astype(int)"
      ],
      "execution_count": 28,
      "outputs": [
        {
          "output_type": "execute_result",
          "data": {
            "text/plain": [
              "array([[1, 2, 3],\n",
              "       [4, 5, 6]])"
            ]
          },
          "metadata": {},
          "execution_count": 28
        }
      ]
    },
    {
      "cell_type": "markdown",
      "metadata": {
        "id": "n3Rgmf1NsXfU"
      },
      "source": [
        "# Array Mathematics\n",
        "## Arithmetic Operations"
      ]
    },
    {
      "cell_type": "markdown",
      "metadata": {
        "id": "GvxDvjehsXfV"
      },
      "source": [
        "### Subtraction"
      ]
    },
    {
      "cell_type": "code",
      "metadata": {
        "id": "ywJgEJHKsXfV",
        "outputId": "79e8bf55-336c-4934-d34d-2bfebf6a3cbd",
        "colab": {
          "base_uri": "https://localhost:8080/"
        }
      },
      "source": [
        "# Pengurangan Array - a-b\n",
        "g = a - b\n",
        "g"
      ],
      "execution_count": 29,
      "outputs": [
        {
          "output_type": "execute_result",
          "data": {
            "text/plain": [
              "array([[-0.5,  0. ,  0. ],\n",
              "       [-3. , -3. , -3. ]])"
            ]
          },
          "metadata": {},
          "execution_count": 29
        }
      ]
    },
    {
      "cell_type": "code",
      "metadata": {
        "id": "pebqkROWsXfV",
        "outputId": "a222d4c4-8cc8-4599-e37c-c92d43db215f",
        "colab": {
          "base_uri": "https://localhost:8080/"
        }
      },
      "source": [
        "# Pengurangan Array - a-b\n",
        "np.subtract(a,b)"
      ],
      "execution_count": 30,
      "outputs": [
        {
          "output_type": "execute_result",
          "data": {
            "text/plain": [
              "array([[-0.5,  0. ,  0. ],\n",
              "       [-3. , -3. , -3. ]])"
            ]
          },
          "metadata": {},
          "execution_count": 30
        }
      ]
    },
    {
      "cell_type": "markdown",
      "metadata": {
        "id": "ehcBOP9bsXfW"
      },
      "source": [
        "### Addition"
      ]
    },
    {
      "cell_type": "code",
      "metadata": {
        "id": "uavp2SeOsXfW",
        "outputId": "52461ae9-d72b-4e54-f24b-0a6c5757e630",
        "colab": {
          "base_uri": "https://localhost:8080/"
        }
      },
      "source": [
        "# Penjumlahan Array - b+a\n",
        "b + a"
      ],
      "execution_count": 31,
      "outputs": [
        {
          "output_type": "execute_result",
          "data": {
            "text/plain": [
              "array([[2.5, 4. , 6. ],\n",
              "       [5. , 7. , 9. ]])"
            ]
          },
          "metadata": {},
          "execution_count": 31
        }
      ]
    },
    {
      "cell_type": "code",
      "metadata": {
        "id": "EUOUQsklsXfW",
        "outputId": "4b9d8902-d1c6-4662-edec-e81442cd77a6",
        "colab": {
          "base_uri": "https://localhost:8080/"
        }
      },
      "source": [
        "# Penjumlahan Array - b+a\n",
        "np.add(b,a)"
      ],
      "execution_count": 32,
      "outputs": [
        {
          "output_type": "execute_result",
          "data": {
            "text/plain": [
              "array([[2.5, 4. , 6. ],\n",
              "       [5. , 7. , 9. ]])"
            ]
          },
          "metadata": {},
          "execution_count": 32
        }
      ]
    },
    {
      "cell_type": "markdown",
      "metadata": {
        "id": "AkyEI85ksXfW"
      },
      "source": [
        "### Division"
      ]
    },
    {
      "cell_type": "code",
      "metadata": {
        "id": "baoTvhX_sXfW",
        "outputId": "a90fd6d2-9b5f-445c-ad78-bd7d1aba4348",
        "colab": {
          "base_uri": "https://localhost:8080/"
        }
      },
      "source": [
        "# Pembagian Array - a/b\n",
        "a / b"
      ],
      "execution_count": 33,
      "outputs": [
        {
          "output_type": "execute_result",
          "data": {
            "text/plain": [
              "array([[0.66666667, 1.        , 1.        ],\n",
              "       [0.25      , 0.4       , 0.5       ]])"
            ]
          },
          "metadata": {},
          "execution_count": 33
        }
      ]
    },
    {
      "cell_type": "code",
      "metadata": {
        "id": "Bu1k0cTmsXfX",
        "outputId": "40aa6990-d00c-4080-9fab-e7677f81982f",
        "colab": {
          "base_uri": "https://localhost:8080/"
        }
      },
      "source": [
        "# Pembagian Array - a/b\n",
        "np.divide(a,b)"
      ],
      "execution_count": 34,
      "outputs": [
        {
          "output_type": "execute_result",
          "data": {
            "text/plain": [
              "array([[0.66666667, 1.        , 1.        ],\n",
              "       [0.25      , 0.4       , 0.5       ]])"
            ]
          },
          "metadata": {},
          "execution_count": 34
        }
      ]
    },
    {
      "cell_type": "markdown",
      "metadata": {
        "id": "Kol10r-osXfX"
      },
      "source": [
        "### Multiplication"
      ]
    },
    {
      "cell_type": "code",
      "metadata": {
        "id": "-4quJB5WsXfX",
        "outputId": "1e8e1318-f99a-4dc3-c8d6-a1395788818c",
        "colab": {
          "base_uri": "https://localhost:8080/"
        }
      },
      "source": [
        "# Perkalian Array - a*b\n",
        "a * b"
      ],
      "execution_count": 35,
      "outputs": [
        {
          "output_type": "execute_result",
          "data": {
            "text/plain": [
              "array([[ 1.5,  4. ,  9. ],\n",
              "       [ 4. , 10. , 18. ]])"
            ]
          },
          "metadata": {},
          "execution_count": 35
        }
      ]
    },
    {
      "cell_type": "code",
      "metadata": {
        "id": "NaAwfA7xsXfY",
        "outputId": "aad68513-7f4a-4307-e4d4-8510fcbbfb6b",
        "colab": {
          "base_uri": "https://localhost:8080/"
        }
      },
      "source": [
        "# Perkalian Array - a*b\n",
        "np.multiply(a,b)"
      ],
      "execution_count": 36,
      "outputs": [
        {
          "output_type": "execute_result",
          "data": {
            "text/plain": [
              "array([[ 1.5,  4. ,  9. ],\n",
              "       [ 4. , 10. , 18. ]])"
            ]
          },
          "metadata": {},
          "execution_count": 36
        }
      ]
    },
    {
      "cell_type": "markdown",
      "metadata": {
        "id": "ZVnL95OOsXfY"
      },
      "source": [
        "### Exponentiation"
      ]
    },
    {
      "cell_type": "code",
      "metadata": {
        "id": "OJn5FO9wsXfY",
        "outputId": "645fca81-8edf-4816-f059-e4e9f1786d52",
        "colab": {
          "base_uri": "https://localhost:8080/"
        }
      },
      "source": [
        "# Fungsi eksponensial pada array b\n",
        "np.exp(b)"
      ],
      "execution_count": 37,
      "outputs": [
        {
          "output_type": "execute_result",
          "data": {
            "text/plain": [
              "array([[  4.48168907,   7.3890561 ,  20.08553692],\n",
              "       [ 54.59815003, 148.4131591 , 403.42879349]])"
            ]
          },
          "metadata": {},
          "execution_count": 37
        }
      ]
    },
    {
      "cell_type": "markdown",
      "metadata": {
        "id": "5vpVImUnsXfY"
      },
      "source": [
        "### Square root"
      ]
    },
    {
      "cell_type": "code",
      "metadata": {
        "id": "Jt2DpiztsXfZ",
        "outputId": "ce052c18-beed-4fb4-d755-ccb015c40e64",
        "colab": {
          "base_uri": "https://localhost:8080/"
        }
      },
      "source": [
        "# Fungsi akar pada array b\n",
        "np.sqrt(b)"
      ],
      "execution_count": 38,
      "outputs": [
        {
          "output_type": "execute_result",
          "data": {
            "text/plain": [
              "array([[1.22474487, 1.41421356, 1.73205081],\n",
              "       [2.        , 2.23606798, 2.44948974]])"
            ]
          },
          "metadata": {},
          "execution_count": 38
        }
      ]
    },
    {
      "cell_type": "markdown",
      "metadata": {
        "id": "pJX3WY_psXfZ"
      },
      "source": [
        "### Print sines of an array"
      ]
    },
    {
      "cell_type": "code",
      "metadata": {
        "id": "h5q--5-wsXfZ",
        "outputId": "8c6b1298-2a7a-4d70-f828-e5e36736396e",
        "colab": {
          "base_uri": "https://localhost:8080/"
        }
      },
      "source": [
        "# Nilai Sinus pada array a\n",
        "np.sin(a)"
      ],
      "execution_count": 39,
      "outputs": [
        {
          "output_type": "execute_result",
          "data": {
            "text/plain": [
              "array([0.84147098, 0.90929743, 0.14112001])"
            ]
          },
          "metadata": {},
          "execution_count": 39
        }
      ]
    },
    {
      "cell_type": "markdown",
      "metadata": {
        "id": "lLPJfi4ssXfa"
      },
      "source": [
        "### Element-wise cosine "
      ]
    },
    {
      "cell_type": "code",
      "metadata": {
        "id": "woOBPZ1-sXfa",
        "outputId": "8af2efd0-aff9-45ad-be1c-6d7549fcbd22",
        "colab": {
          "base_uri": "https://localhost:8080/"
        }
      },
      "source": [
        "# Nilai Cosinus pada array b\n",
        "np.cos(b)"
      ],
      "execution_count": 40,
      "outputs": [
        {
          "output_type": "execute_result",
          "data": {
            "text/plain": [
              "array([[ 0.0707372 , -0.41614684, -0.9899925 ],\n",
              "       [-0.65364362,  0.28366219,  0.96017029]])"
            ]
          },
          "metadata": {},
          "execution_count": 40
        }
      ]
    },
    {
      "cell_type": "markdown",
      "metadata": {
        "id": "BRJPEnx2sXfa"
      },
      "source": [
        "### Element-wise natural logarithm"
      ]
    },
    {
      "cell_type": "code",
      "metadata": {
        "id": "CWWscCvLsXfb",
        "outputId": "e2314b7f-9b55-470a-a2a6-a24880650ff7",
        "colab": {
          "base_uri": "https://localhost:8080/"
        }
      },
      "source": [
        "# Nilai logaritma pada array a\n",
        "np.log(a)"
      ],
      "execution_count": 41,
      "outputs": [
        {
          "output_type": "execute_result",
          "data": {
            "text/plain": [
              "array([0.        , 0.69314718, 1.09861229])"
            ]
          },
          "metadata": {},
          "execution_count": 41
        }
      ]
    },
    {
      "cell_type": "markdown",
      "metadata": {
        "id": "Xlq3z_SHsXfb"
      },
      "source": [
        "### Dot product"
      ]
    },
    {
      "cell_type": "code",
      "metadata": {
        "id": "7o5eOIcQsXfh",
        "outputId": "deeaf67b-8393-4616-e38e-2e154de8e418",
        "colab": {
          "base_uri": "https://localhost:8080/"
        }
      },
      "source": [
        "# Perkalian Titik pada array f\n",
        "e.dot(f)"
      ],
      "execution_count": 42,
      "outputs": [
        {
          "output_type": "execute_result",
          "data": {
            "text/plain": [
              "array([[7., 7.],\n",
              "       [7., 7.]])"
            ]
          },
          "metadata": {},
          "execution_count": 42
        }
      ]
    },
    {
      "cell_type": "markdown",
      "metadata": {
        "id": "wFbDy13TsXfi"
      },
      "source": [
        "## Comparison"
      ]
    },
    {
      "cell_type": "markdown",
      "metadata": {
        "id": "GOulWFo2sXfi"
      },
      "source": [
        "### Element-wise comparison"
      ]
    },
    {
      "cell_type": "code",
      "metadata": {
        "id": "x5HBUsrUsXfj",
        "outputId": "cb3c5248-9f9c-4add-f1fc-7cf11dff62e1",
        "colab": {
          "base_uri": "https://localhost:8080/"
        }
      },
      "source": [
        "# Perbandingan elemen array a==b \n",
        "a == b"
      ],
      "execution_count": 43,
      "outputs": [
        {
          "output_type": "execute_result",
          "data": {
            "text/plain": [
              "array([[False,  True,  True],\n",
              "       [False, False, False]])"
            ]
          },
          "metadata": {},
          "execution_count": 43
        }
      ]
    },
    {
      "cell_type": "code",
      "metadata": {
        "id": "rastV-HtsXfj",
        "outputId": "c533a9dd-ae81-478a-bfbf-a45da30760f7",
        "colab": {
          "base_uri": "https://localhost:8080/"
        }
      },
      "source": [
        "# Perbandingan elemen array a<2\n",
        "a < 2"
      ],
      "execution_count": 44,
      "outputs": [
        {
          "output_type": "execute_result",
          "data": {
            "text/plain": [
              "array([ True, False, False])"
            ]
          },
          "metadata": {},
          "execution_count": 44
        }
      ]
    },
    {
      "cell_type": "markdown",
      "metadata": {
        "id": "VlnWPKVnsXfk"
      },
      "source": [
        "### Array-wise comparison"
      ]
    },
    {
      "cell_type": "code",
      "metadata": {
        "id": "hjDq_SOIsXfk",
        "outputId": "0c06c986-7d11-42fa-ef0d-9fd01df64a16",
        "colab": {
          "base_uri": "https://localhost:8080/"
        }
      },
      "source": [
        "# Perbandingan array a,b\n",
        "np.array_equal(a, b)"
      ],
      "execution_count": 45,
      "outputs": [
        {
          "output_type": "execute_result",
          "data": {
            "text/plain": [
              "False"
            ]
          },
          "metadata": {},
          "execution_count": 45
        }
      ]
    },
    {
      "cell_type": "markdown",
      "metadata": {
        "id": "fDW0MhWrsXfl"
      },
      "source": [
        "## Aggregate Functions"
      ]
    },
    {
      "cell_type": "markdown",
      "metadata": {
        "id": "Ga0tHa8FsXfl"
      },
      "source": [
        "### Array-wise sum"
      ]
    },
    {
      "cell_type": "code",
      "metadata": {
        "id": "WSH_EiMNsXfl",
        "outputId": "d5479afa-b84e-454e-a5f3-f799f5c012ad",
        "colab": {
          "base_uri": "https://localhost:8080/"
        }
      },
      "source": [
        "# Agregasi nilai total array a\n",
        "a.sum()"
      ],
      "execution_count": 46,
      "outputs": [
        {
          "output_type": "execute_result",
          "data": {
            "text/plain": [
              "6"
            ]
          },
          "metadata": {},
          "execution_count": 46
        }
      ]
    },
    {
      "cell_type": "markdown",
      "metadata": {
        "id": "z0rOqTdCsXfm"
      },
      "source": [
        "### Array-wise minimum value"
      ]
    },
    {
      "cell_type": "code",
      "metadata": {
        "id": "nRS4799wsXfm",
        "outputId": "24db87a5-6279-477b-b1c8-2d6dcaf0db9a",
        "colab": {
          "base_uri": "https://localhost:8080/"
        }
      },
      "source": [
        "# Agregasi nilai minimal array a\n",
        "a.min()"
      ],
      "execution_count": 47,
      "outputs": [
        {
          "output_type": "execute_result",
          "data": {
            "text/plain": [
              "1"
            ]
          },
          "metadata": {},
          "execution_count": 47
        }
      ]
    },
    {
      "cell_type": "markdown",
      "metadata": {
        "id": "m5eiZmzfsXfm"
      },
      "source": [
        "### Maximum value of an array row"
      ]
    },
    {
      "cell_type": "code",
      "metadata": {
        "id": "q6XkpKoPsXfn",
        "outputId": "2af67026-239c-4cff-c1e5-795260f027ae",
        "colab": {
          "base_uri": "https://localhost:8080/"
        }
      },
      "source": [
        "# Agregasi nilai maksimal array b\n",
        "b.max(axis=0)"
      ],
      "execution_count": 48,
      "outputs": [
        {
          "output_type": "execute_result",
          "data": {
            "text/plain": [
              "array([4., 5., 6.])"
            ]
          },
          "metadata": {},
          "execution_count": 48
        }
      ]
    },
    {
      "cell_type": "markdown",
      "metadata": {
        "id": "4pPPFvTPsXfn"
      },
      "source": [
        "### Cumulative sum of the elements"
      ]
    },
    {
      "cell_type": "code",
      "metadata": {
        "id": "I9iWLb3RsXfo",
        "outputId": "ce03d648-8c9c-458f-eaef-ba13d98ddc54",
        "colab": {
          "base_uri": "https://localhost:8080/"
        }
      },
      "source": [
        "# Nilai kumulatif pada array b\n",
        "b.cumsum(axis=1)"
      ],
      "execution_count": 49,
      "outputs": [
        {
          "output_type": "execute_result",
          "data": {
            "text/plain": [
              "array([[ 1.5,  3.5,  6.5],\n",
              "       [ 4. ,  9. , 15. ]])"
            ]
          },
          "metadata": {},
          "execution_count": 49
        }
      ]
    },
    {
      "cell_type": "markdown",
      "metadata": {
        "id": "ww7suH0CsXfo"
      },
      "source": [
        "### Mean"
      ]
    },
    {
      "cell_type": "code",
      "metadata": {
        "id": "AV2eoCwHsXfo",
        "outputId": "69cd8743-1168-45b1-fb50-fd5664951e2d",
        "colab": {
          "base_uri": "https://localhost:8080/"
        }
      },
      "source": [
        "# Nilai Mean array a\n",
        "a.mean()"
      ],
      "execution_count": 50,
      "outputs": [
        {
          "output_type": "execute_result",
          "data": {
            "text/plain": [
              "2.0"
            ]
          },
          "metadata": {},
          "execution_count": 50
        }
      ]
    },
    {
      "cell_type": "markdown",
      "metadata": {
        "id": "6W7cvChWsXfp"
      },
      "source": [
        "### Median "
      ]
    },
    {
      "cell_type": "code",
      "metadata": {
        "id": "_9yqhoXusXfp",
        "outputId": "9de74d96-7d60-47d4-dfdb-4e244aa874a3",
        "colab": {
          "base_uri": "https://localhost:8080/"
        }
      },
      "source": [
        "# Nilai Median array b\n",
        "np.median(b)"
      ],
      "execution_count": 51,
      "outputs": [
        {
          "output_type": "execute_result",
          "data": {
            "text/plain": [
              "3.5"
            ]
          },
          "metadata": {},
          "execution_count": 51
        }
      ]
    },
    {
      "cell_type": "markdown",
      "metadata": {
        "id": "9oCKYAf1sXfq"
      },
      "source": [
        "### Correlation coefficient"
      ]
    },
    {
      "cell_type": "code",
      "metadata": {
        "id": "gpK0oFyKsXfq",
        "outputId": "6873737e-2b8c-4634-95de-25afee8d5391",
        "colab": {
          "base_uri": "https://localhost:8080/"
        }
      },
      "source": [
        "# Nilai korelasi koefisien array a\n",
        "np.corrcoef(a)"
      ],
      "execution_count": 52,
      "outputs": [
        {
          "output_type": "execute_result",
          "data": {
            "text/plain": [
              "1.0"
            ]
          },
          "metadata": {},
          "execution_count": 52
        }
      ]
    },
    {
      "cell_type": "markdown",
      "metadata": {
        "id": "RRVfnzjrsXfq"
      },
      "source": [
        "### Standard deviation"
      ]
    },
    {
      "cell_type": "code",
      "metadata": {
        "id": "vSNrmX-1sXfr",
        "outputId": "01ac99b2-b646-4fb9-880c-f312b0bb10f4",
        "colab": {
          "base_uri": "https://localhost:8080/"
        }
      },
      "source": [
        "# Nilai standar defiasi array b\n",
        "np.std(b)"
      ],
      "execution_count": 53,
      "outputs": [
        {
          "output_type": "execute_result",
          "data": {
            "text/plain": [
              "1.5920810978785667"
            ]
          },
          "metadata": {},
          "execution_count": 53
        }
      ]
    },
    {
      "cell_type": "markdown",
      "metadata": {
        "id": "KLrk2t8osXfr"
      },
      "source": [
        "# Copying Arrays"
      ]
    },
    {
      "cell_type": "markdown",
      "metadata": {
        "id": "NvyzG5_isXfr"
      },
      "source": [
        "### Create a view of the array with the same data"
      ]
    },
    {
      "cell_type": "code",
      "metadata": {
        "id": "U9hvdixasXfs",
        "outputId": "c9d78284-4a4f-4078-88ea-560108444701",
        "colab": {
          "base_uri": "https://localhost:8080/"
        }
      },
      "source": [
        "# Melihat isi array a\n",
        "h = a.view()\n",
        "h"
      ],
      "execution_count": 54,
      "outputs": [
        {
          "output_type": "execute_result",
          "data": {
            "text/plain": [
              "array([1, 2, 3])"
            ]
          },
          "metadata": {},
          "execution_count": 54
        }
      ]
    },
    {
      "cell_type": "markdown",
      "metadata": {
        "id": "8aqmEqA_sXfs"
      },
      "source": [
        "### Create a copy of the array"
      ]
    },
    {
      "cell_type": "code",
      "metadata": {
        "id": "t0MpbWLlsXft",
        "outputId": "5128b720-4f31-4992-fd8f-26556a47a563",
        "colab": {
          "base_uri": "https://localhost:8080/"
        }
      },
      "source": [
        "# Copy array a\n",
        "np.copy(a)"
      ],
      "execution_count": 55,
      "outputs": [
        {
          "output_type": "execute_result",
          "data": {
            "text/plain": [
              "array([1, 2, 3])"
            ]
          },
          "metadata": {},
          "execution_count": 55
        }
      ]
    },
    {
      "cell_type": "markdown",
      "metadata": {
        "id": "vjDPekhcsXft"
      },
      "source": [
        "### Create a deep copy of the array"
      ]
    },
    {
      "cell_type": "code",
      "metadata": {
        "id": "yjMxtm67sXft",
        "outputId": "5fa662c4-290f-4634-dffb-f83aee085f53",
        "colab": {
          "base_uri": "https://localhost:8080/"
        }
      },
      "source": [
        "# Deef copy array a\n",
        "h = a.copy()\n",
        "h"
      ],
      "execution_count": 56,
      "outputs": [
        {
          "output_type": "execute_result",
          "data": {
            "text/plain": [
              "array([1, 2, 3])"
            ]
          },
          "metadata": {},
          "execution_count": 56
        }
      ]
    },
    {
      "cell_type": "markdown",
      "metadata": {
        "id": "RIZz0ZW8sXfu"
      },
      "source": [
        "# Sorting Arrays"
      ]
    },
    {
      "cell_type": "markdown",
      "metadata": {
        "id": "huVZNc0ZsXfu"
      },
      "source": [
        "### Sort an array"
      ]
    },
    {
      "cell_type": "code",
      "metadata": {
        "id": "7CluyJD5sXfu",
        "outputId": "1c46e5b2-1573-45f5-b2fd-b6115118a04d",
        "colab": {
          "base_uri": "https://localhost:8080/"
        }
      },
      "source": [
        "# Mengurutkan array a\n",
        "a.sort()\n",
        "a"
      ],
      "execution_count": 57,
      "outputs": [
        {
          "output_type": "execute_result",
          "data": {
            "text/plain": [
              "array([1, 2, 3])"
            ]
          },
          "metadata": {},
          "execution_count": 57
        }
      ]
    },
    {
      "cell_type": "markdown",
      "metadata": {
        "id": "5Y4m6L6EsXfv"
      },
      "source": [
        "### Sort the elements of an array's axis"
      ]
    },
    {
      "cell_type": "code",
      "metadata": {
        "id": "-gHWPbsdsXfv",
        "outputId": "2da03877-95c7-4705-ef4a-299daeea3468",
        "colab": {
          "base_uri": "https://localhost:8080/"
        }
      },
      "source": [
        "# Mengurutkan array c\n",
        "c.sort(axis=0)\n",
        "c"
      ],
      "execution_count": 58,
      "outputs": [
        {
          "output_type": "execute_result",
          "data": {
            "text/plain": [
              "array([[[1.5, 2. , 1. ],\n",
              "        [4. , 5. , 6. ]],\n",
              "\n",
              "       [[3. , 2. , 3. ],\n",
              "        [4. , 5. , 6. ]]])"
            ]
          },
          "metadata": {},
          "execution_count": 58
        }
      ]
    },
    {
      "cell_type": "markdown",
      "metadata": {
        "id": "wVO9P3rusXfw"
      },
      "source": [
        "# Subsetting, Slicing, Indexing"
      ]
    },
    {
      "cell_type": "markdown",
      "metadata": {
        "id": "hKQPVLBgsXfw"
      },
      "source": [
        "## Subsetting"
      ]
    },
    {
      "cell_type": "markdown",
      "metadata": {
        "id": "nkos5wdQsXfw"
      },
      "source": [
        "### Select the element at the 2nd index"
      ]
    },
    {
      "cell_type": "code",
      "metadata": {
        "id": "sdoMbzHHsXfx",
        "outputId": "aa296450-9569-4400-945a-d396d2266a96",
        "colab": {
          "base_uri": "https://localhost:8080/"
        }
      },
      "source": [
        "# Mengambil nilai index ke 2 pada elemen array a\n",
        "a[2]"
      ],
      "execution_count": 59,
      "outputs": [
        {
          "output_type": "execute_result",
          "data": {
            "text/plain": [
              "3"
            ]
          },
          "metadata": {},
          "execution_count": 59
        }
      ]
    },
    {
      "cell_type": "markdown",
      "metadata": {
        "id": "7Y4O8SnUsXfx"
      },
      "source": [
        "### Select the element at row 1 column 2 (equivalent to b[1][2])\n"
      ]
    },
    {
      "cell_type": "code",
      "metadata": {
        "id": "CR8r0zJ4sXfy",
        "outputId": "9eb3be04-bb31-47af-9f36-8aee9ca717a1",
        "colab": {
          "base_uri": "https://localhost:8080/"
        }
      },
      "source": [
        "# Mengambil nilai baris ke 1 kolom ke 2 pada elemen array a\n",
        "b[1,2]"
      ],
      "execution_count": 60,
      "outputs": [
        {
          "output_type": "execute_result",
          "data": {
            "text/plain": [
              "6.0"
            ]
          },
          "metadata": {},
          "execution_count": 60
        }
      ]
    },
    {
      "cell_type": "markdown",
      "metadata": {
        "id": "drLOEvRpsXfy"
      },
      "source": [
        "## Slicing"
      ]
    },
    {
      "cell_type": "markdown",
      "metadata": {
        "id": "hlgx2dUjsXfy"
      },
      "source": [
        "### Select items at index 0 and 1"
      ]
    },
    {
      "cell_type": "code",
      "metadata": {
        "id": "JxCTlCQosXf1",
        "outputId": "c8d71da8-4104-433e-c263-40561adef13d",
        "colab": {
          "base_uri": "https://localhost:8080/"
        }
      },
      "source": [
        "# Mengambil nilai index ke 0 - 1 pada elemen array a\n",
        "a[0:2]"
      ],
      "execution_count": 61,
      "outputs": [
        {
          "output_type": "execute_result",
          "data": {
            "text/plain": [
              "array([1, 2])"
            ]
          },
          "metadata": {},
          "execution_count": 61
        }
      ]
    },
    {
      "cell_type": "markdown",
      "metadata": {
        "id": "zyMN1FMgsXf1"
      },
      "source": [
        "### Select items at rows 0 and 1 in column 1"
      ]
    },
    {
      "cell_type": "code",
      "metadata": {
        "id": "WKYGyK50sXf2",
        "outputId": "2a74d346-b216-422b-f2c5-2d27ee648932",
        "colab": {
          "base_uri": "https://localhost:8080/"
        }
      },
      "source": [
        "# Mengambil nilai index ke 0 - 1 kolom ke 1 pada elemen array b\n",
        "b[0:2,1] "
      ],
      "execution_count": 62,
      "outputs": [
        {
          "output_type": "execute_result",
          "data": {
            "text/plain": [
              "array([2., 5.])"
            ]
          },
          "metadata": {},
          "execution_count": 62
        }
      ]
    },
    {
      "cell_type": "markdown",
      "metadata": {
        "id": "rPfu4GJIsXf2"
      },
      "source": [
        "### Select all items at row 0 (equivalent to b[0:1, :])"
      ]
    },
    {
      "cell_type": "code",
      "metadata": {
        "id": "TcJjYluksXf3",
        "outputId": "e4e4992e-beab-495b-eb08-f79544c7a489",
        "colab": {
          "base_uri": "https://localhost:8080/"
        }
      },
      "source": [
        "# Mengambil semua nilai baris ke 0 pada elemen array b\n",
        "b[:1]"
      ],
      "execution_count": 63,
      "outputs": [
        {
          "output_type": "execute_result",
          "data": {
            "text/plain": [
              "array([[1.5, 2. , 3. ]])"
            ]
          },
          "metadata": {},
          "execution_count": 63
        }
      ]
    },
    {
      "cell_type": "markdown",
      "metadata": {
        "id": "apfYFg4jsXf3"
      },
      "source": [
        "### Same as [1,:,:]"
      ]
    },
    {
      "cell_type": "code",
      "metadata": {
        "id": "rr2tgnZdsXf3",
        "outputId": "b2dd2452-de80-4426-8cc1-3a159f578083",
        "colab": {
          "base_uri": "https://localhost:8080/"
        }
      },
      "source": [
        "# Mengambil semua nilai baris ke 1 pada elemen array c\n",
        "c[1,...]"
      ],
      "execution_count": 64,
      "outputs": [
        {
          "output_type": "execute_result",
          "data": {
            "text/plain": [
              "array([[3., 2., 3.],\n",
              "       [4., 5., 6.]])"
            ]
          },
          "metadata": {},
          "execution_count": 64
        }
      ]
    },
    {
      "cell_type": "markdown",
      "metadata": {
        "id": "2dkMqyFVsXf4"
      },
      "source": [
        "### Reversed array a "
      ]
    },
    {
      "cell_type": "code",
      "metadata": {
        "id": "8c3KPD8TsXf4",
        "outputId": "3af36cb2-d5c3-422e-bbde-ff35b156fb3c",
        "colab": {
          "base_uri": "https://localhost:8080/"
        }
      },
      "source": [
        "# Mengambil nilai pada elemen array a secara terbalik\n",
        "a[ : :-1]"
      ],
      "execution_count": 65,
      "outputs": [
        {
          "output_type": "execute_result",
          "data": {
            "text/plain": [
              "array([3, 2, 1])"
            ]
          },
          "metadata": {},
          "execution_count": 65
        }
      ]
    },
    {
      "cell_type": "markdown",
      "metadata": {
        "id": "JoqTrBTSsXf5"
      },
      "source": [
        "# Array Manipulation"
      ]
    },
    {
      "cell_type": "markdown",
      "metadata": {
        "id": "7RNzpi_KsXf5"
      },
      "source": [
        "## Transposing Array"
      ]
    },
    {
      "cell_type": "markdown",
      "metadata": {
        "id": "UDQZAnwbsXf5"
      },
      "source": [
        "### Permute array dimensions"
      ]
    },
    {
      "cell_type": "code",
      "metadata": {
        "id": "A10Tf4I_sXf6"
      },
      "source": [
        "# Transpose array b\n",
        "i = np.transpose(b)"
      ],
      "execution_count": 66,
      "outputs": []
    },
    {
      "cell_type": "code",
      "metadata": {
        "id": "9jtPsDKlsXf6",
        "outputId": "6b34da28-97ca-4fef-aa79-6ce6913861b9",
        "colab": {
          "base_uri": "https://localhost:8080/"
        }
      },
      "source": [
        "i.T"
      ],
      "execution_count": 67,
      "outputs": [
        {
          "output_type": "execute_result",
          "data": {
            "text/plain": [
              "array([[1.5, 2. , 3. ],\n",
              "       [4. , 5. , 6. ]])"
            ]
          },
          "metadata": {},
          "execution_count": 67
        }
      ]
    },
    {
      "cell_type": "markdown",
      "metadata": {
        "id": "cW5VXqInsXf6"
      },
      "source": [
        "##  Changing Array Shape"
      ]
    },
    {
      "cell_type": "markdown",
      "metadata": {
        "id": "tk9tOHi0sXf7"
      },
      "source": [
        "### Flatten the array"
      ]
    },
    {
      "cell_type": "code",
      "metadata": {
        "id": "YF3WtMPWsXf7",
        "outputId": "5ff42f59-9de1-4e3b-9c75-1747d1f8f147",
        "colab": {
          "base_uri": "https://localhost:8080/"
        }
      },
      "source": [
        "b"
      ],
      "execution_count": 68,
      "outputs": [
        {
          "output_type": "execute_result",
          "data": {
            "text/plain": [
              "array([[1.5, 2. , 3. ],\n",
              "       [4. , 5. , 6. ]])"
            ]
          },
          "metadata": {},
          "execution_count": 68
        }
      ]
    },
    {
      "cell_type": "code",
      "metadata": {
        "id": "_o860hBEsXf8",
        "outputId": "5f2dc3d5-9772-415e-f190-3635fc556b5a",
        "colab": {
          "base_uri": "https://localhost:8080/"
        }
      },
      "source": [
        "# Meratakan array b menjadi satu dimensi\n",
        "b.ravel()"
      ],
      "execution_count": 69,
      "outputs": [
        {
          "output_type": "execute_result",
          "data": {
            "text/plain": [
              "array([1.5, 2. , 3. , 4. , 5. , 6. ])"
            ]
          },
          "metadata": {},
          "execution_count": 69
        }
      ]
    },
    {
      "cell_type": "markdown",
      "metadata": {
        "id": "s-1r6us6sXf8"
      },
      "source": [
        "### Reshape, but don’t change data"
      ]
    },
    {
      "cell_type": "code",
      "metadata": {
        "id": "soiD6MeYsXf8",
        "outputId": "902e9776-12b4-4b20-9d50-002a32fd05fd",
        "colab": {
          "base_uri": "https://localhost:8080/"
        }
      },
      "source": [
        "g"
      ],
      "execution_count": 70,
      "outputs": [
        {
          "output_type": "execute_result",
          "data": {
            "text/plain": [
              "array([[-0.5,  0. ,  0. ],\n",
              "       [-3. , -3. , -3. ]])"
            ]
          },
          "metadata": {},
          "execution_count": 70
        }
      ]
    },
    {
      "cell_type": "code",
      "metadata": {
        "id": "RCHtLLXpsXf9",
        "outputId": "81bd75a8-b5a2-461c-a0ec-f25713a8c351",
        "colab": {
          "base_uri": "https://localhost:8080/"
        }
      },
      "source": [
        "# Mengubah array g menjadi 2 dimensi\n",
        "g.reshape(3,-2)"
      ],
      "execution_count": 71,
      "outputs": [
        {
          "output_type": "execute_result",
          "data": {
            "text/plain": [
              "array([[-0.5,  0. ],\n",
              "       [ 0. , -3. ],\n",
              "       [-3. , -3. ]])"
            ]
          },
          "metadata": {},
          "execution_count": 71
        }
      ]
    },
    {
      "cell_type": "markdown",
      "metadata": {
        "id": "DH1aBOkjsXf9"
      },
      "source": [
        "## Adding/Removing Elements"
      ]
    },
    {
      "cell_type": "markdown",
      "metadata": {
        "id": "Qz39qsJqsXf9"
      },
      "source": [
        "### Return a new array with shape (2,6) "
      ]
    },
    {
      "cell_type": "code",
      "metadata": {
        "id": "lxYizlsEsXf-",
        "outputId": "b99b844e-0f8a-42c0-dcdd-6f610f349f60",
        "colab": {
          "base_uri": "https://localhost:8080/"
        }
      },
      "source": [
        "h"
      ],
      "execution_count": 72,
      "outputs": [
        {
          "output_type": "execute_result",
          "data": {
            "text/plain": [
              "array([1, 2, 3])"
            ]
          },
          "metadata": {},
          "execution_count": 72
        }
      ]
    },
    {
      "cell_type": "code",
      "metadata": {
        "scrolled": true,
        "id": "rVNC8KmAsXf-",
        "outputId": "307dc38d-6482-4014-8025-206fe8091591",
        "colab": {
          "base_uri": "https://localhost:8080/"
        }
      },
      "source": [
        "# Menambah jumlah elemen array\n",
        "np.resize(h, (2,6))"
      ],
      "execution_count": 73,
      "outputs": [
        {
          "output_type": "execute_result",
          "data": {
            "text/plain": [
              "array([[1, 2, 3, 1, 2, 3],\n",
              "       [1, 2, 3, 1, 2, 3]])"
            ]
          },
          "metadata": {},
          "execution_count": 73
        }
      ]
    },
    {
      "cell_type": "markdown",
      "metadata": {
        "id": "xs6tA9cusXf-"
      },
      "source": [
        "### Append items to an array"
      ]
    },
    {
      "cell_type": "code",
      "metadata": {
        "id": "8eCV7tRZsXf_",
        "outputId": "81274676-fc90-4b0b-ae2e-80e21f814c79",
        "colab": {
          "base_uri": "https://localhost:8080/"
        }
      },
      "source": [
        "h"
      ],
      "execution_count": 74,
      "outputs": [
        {
          "output_type": "execute_result",
          "data": {
            "text/plain": [
              "array([1, 2, 3])"
            ]
          },
          "metadata": {},
          "execution_count": 74
        }
      ]
    },
    {
      "cell_type": "code",
      "metadata": {
        "id": "4AAtuI2tsXf_",
        "outputId": "393999e5-a33d-4cba-d5ed-3833c2db5e5a",
        "colab": {
          "base_uri": "https://localhost:8080/"
        }
      },
      "source": [
        "g"
      ],
      "execution_count": 75,
      "outputs": [
        {
          "output_type": "execute_result",
          "data": {
            "text/plain": [
              "array([[-0.5,  0. ,  0. ],\n",
              "       [-3. , -3. , -3. ]])"
            ]
          },
          "metadata": {},
          "execution_count": 75
        }
      ]
    },
    {
      "cell_type": "code",
      "metadata": {
        "id": "KGTzqLtLsXf_",
        "outputId": "c55aafab-7472-4570-8cb9-ea59ccaca1c7",
        "colab": {
          "base_uri": "https://localhost:8080/"
        }
      },
      "source": [
        "# Menambahkan elemen array h dengan array g \n",
        "np.append(h,g)"
      ],
      "execution_count": 76,
      "outputs": [
        {
          "output_type": "execute_result",
          "data": {
            "text/plain": [
              "array([ 1. ,  2. ,  3. , -0.5,  0. ,  0. , -3. , -3. , -3. ])"
            ]
          },
          "metadata": {},
          "execution_count": 76
        }
      ]
    },
    {
      "cell_type": "markdown",
      "metadata": {
        "id": "1WwvFYnJsXgA"
      },
      "source": [
        "### Insert items in an array"
      ]
    },
    {
      "cell_type": "code",
      "metadata": {
        "id": "JNmsYUjAsXgA",
        "outputId": "a6cb7525-05e8-47af-f1b0-f88b92aec8e6",
        "colab": {
          "base_uri": "https://localhost:8080/"
        }
      },
      "source": [
        "a"
      ],
      "execution_count": 77,
      "outputs": [
        {
          "output_type": "execute_result",
          "data": {
            "text/plain": [
              "array([1, 2, 3])"
            ]
          },
          "metadata": {},
          "execution_count": 77
        }
      ]
    },
    {
      "cell_type": "code",
      "metadata": {
        "id": "xtYH69x8sXgA",
        "outputId": "d0651ad8-c67a-4731-9338-f3a09bdecd51",
        "colab": {
          "base_uri": "https://localhost:8080/"
        }
      },
      "source": [
        "# Memasukkan nilai 5 index ke 1 dalam array a\n",
        "np.insert(a, 1, 5)"
      ],
      "execution_count": 78,
      "outputs": [
        {
          "output_type": "execute_result",
          "data": {
            "text/plain": [
              "array([1, 5, 2, 3])"
            ]
          },
          "metadata": {},
          "execution_count": 78
        }
      ]
    },
    {
      "cell_type": "markdown",
      "metadata": {
        "id": "8vPo_C93sXgA"
      },
      "source": [
        "### Delete items from an array"
      ]
    },
    {
      "cell_type": "code",
      "metadata": {
        "id": "zxbUSoEUsXgB",
        "outputId": "b3b0c3ad-a2fe-4240-a5de-449bd4946a7b",
        "colab": {
          "base_uri": "https://localhost:8080/"
        }
      },
      "source": [
        "a"
      ],
      "execution_count": 79,
      "outputs": [
        {
          "output_type": "execute_result",
          "data": {
            "text/plain": [
              "array([1, 2, 3])"
            ]
          },
          "metadata": {},
          "execution_count": 79
        }
      ]
    },
    {
      "cell_type": "code",
      "metadata": {
        "id": "--E6RLSgsXgB",
        "outputId": "7fd08e60-dcb7-4867-f29c-be9992bb8785",
        "colab": {
          "base_uri": "https://localhost:8080/"
        }
      },
      "source": [
        "# Menghapus elemen array a index ke 1\n",
        "np.delete(a,[1])"
      ],
      "execution_count": 80,
      "outputs": [
        {
          "output_type": "execute_result",
          "data": {
            "text/plain": [
              "array([1, 3])"
            ]
          },
          "metadata": {},
          "execution_count": 80
        }
      ]
    },
    {
      "cell_type": "markdown",
      "metadata": {
        "id": "k0lYA6ulsXgB"
      },
      "source": [
        "## Combining Arrays"
      ]
    },
    {
      "cell_type": "markdown",
      "metadata": {
        "id": "s0gpp_R7sXgB"
      },
      "source": [
        "###  Concatenate arrays"
      ]
    },
    {
      "cell_type": "code",
      "metadata": {
        "id": "PUKsb9JosXgC",
        "outputId": "53ace9b4-3959-472b-f3c7-17d749e2a5ef",
        "colab": {
          "base_uri": "https://localhost:8080/"
        }
      },
      "source": [
        "a"
      ],
      "execution_count": 81,
      "outputs": [
        {
          "output_type": "execute_result",
          "data": {
            "text/plain": [
              "array([1, 2, 3])"
            ]
          },
          "metadata": {},
          "execution_count": 81
        }
      ]
    },
    {
      "cell_type": "code",
      "metadata": {
        "id": "N-xuSxw2sXgC",
        "outputId": "d1b60e54-bbe0-4391-ee53-524fb1e9446a",
        "colab": {
          "base_uri": "https://localhost:8080/"
        }
      },
      "source": [
        "d"
      ],
      "execution_count": 82,
      "outputs": [
        {
          "output_type": "execute_result",
          "data": {
            "text/plain": [
              "array([10, 15, 20])"
            ]
          },
          "metadata": {},
          "execution_count": 82
        }
      ]
    },
    {
      "cell_type": "code",
      "metadata": {
        "id": "yOZrqK2SsXgC",
        "outputId": "167fc4a2-1c7d-4410-8c93-3ba310724ce0",
        "colab": {
          "base_uri": "https://localhost:8080/"
        }
      },
      "source": [
        "# Menggabungkan elemen array a dan d\n",
        "np.concatenate((a,d),axis=0) "
      ],
      "execution_count": 83,
      "outputs": [
        {
          "output_type": "execute_result",
          "data": {
            "text/plain": [
              "array([ 1,  2,  3, 10, 15, 20])"
            ]
          },
          "metadata": {},
          "execution_count": 83
        }
      ]
    },
    {
      "cell_type": "markdown",
      "metadata": {
        "id": "0sBAzX6DsXgC"
      },
      "source": [
        "### Stack arrays vertically (row-wise)"
      ]
    },
    {
      "cell_type": "code",
      "metadata": {
        "id": "RWYRB5uUsXgD",
        "outputId": "391dafaa-8c99-4998-ec7b-39b5d2dd5432",
        "colab": {
          "base_uri": "https://localhost:8080/"
        }
      },
      "source": [
        "a"
      ],
      "execution_count": 84,
      "outputs": [
        {
          "output_type": "execute_result",
          "data": {
            "text/plain": [
              "array([1, 2, 3])"
            ]
          },
          "metadata": {},
          "execution_count": 84
        }
      ]
    },
    {
      "cell_type": "code",
      "metadata": {
        "id": "M9Ak8OcqsXgD",
        "outputId": "534cf756-3e52-41ac-d390-baeb4e32f3f7",
        "colab": {
          "base_uri": "https://localhost:8080/"
        }
      },
      "source": [
        "b"
      ],
      "execution_count": 85,
      "outputs": [
        {
          "output_type": "execute_result",
          "data": {
            "text/plain": [
              "array([[1.5, 2. , 3. ],\n",
              "       [4. , 5. , 6. ]])"
            ]
          },
          "metadata": {},
          "execution_count": 85
        }
      ]
    },
    {
      "cell_type": "code",
      "metadata": {
        "scrolled": true,
        "id": "N0tuSXqUsXgD",
        "outputId": "5ba7fa18-54d6-4a20-eb3c-be7a171c23b5",
        "colab": {
          "base_uri": "https://localhost:8080/"
        }
      },
      "source": [
        "# Susunan array secara vertikal (berdasarkan baris) array a dan b\n",
        "np.vstack((a,b))"
      ],
      "execution_count": 86,
      "outputs": [
        {
          "output_type": "execute_result",
          "data": {
            "text/plain": [
              "array([[1. , 2. , 3. ],\n",
              "       [1.5, 2. , 3. ],\n",
              "       [4. , 5. , 6. ]])"
            ]
          },
          "metadata": {},
          "execution_count": 86
        }
      ]
    },
    {
      "cell_type": "markdown",
      "metadata": {
        "id": "--wIKGEUsXgD"
      },
      "source": [
        "### Stack arrays vertically (row-wise)"
      ]
    },
    {
      "cell_type": "code",
      "metadata": {
        "id": "5bPoMFpAsXgE",
        "outputId": "6a1a2c33-14d3-42d4-bf64-0f6f61c501d8",
        "colab": {
          "base_uri": "https://localhost:8080/"
        }
      },
      "source": [
        "e"
      ],
      "execution_count": 87,
      "outputs": [
        {
          "output_type": "execute_result",
          "data": {
            "text/plain": [
              "array([[7, 7],\n",
              "       [7, 7]])"
            ]
          },
          "metadata": {},
          "execution_count": 87
        }
      ]
    },
    {
      "cell_type": "code",
      "metadata": {
        "id": "2Po7tUyfsXgE",
        "outputId": "49c82c52-4ca5-4ee8-dde4-b8774ffd773d",
        "colab": {
          "base_uri": "https://localhost:8080/"
        }
      },
      "source": [
        "f"
      ],
      "execution_count": 88,
      "outputs": [
        {
          "output_type": "execute_result",
          "data": {
            "text/plain": [
              "array([[1., 0.],\n",
              "       [0., 1.]])"
            ]
          },
          "metadata": {},
          "execution_count": 88
        }
      ]
    },
    {
      "cell_type": "code",
      "metadata": {
        "id": "jeRULHqHsXgE",
        "outputId": "98ba89b3-8a16-4940-b0b2-12de00147f65",
        "colab": {
          "base_uri": "https://localhost:8080/"
        }
      },
      "source": [
        "# Susunan array secara vertikal (berdasarkan baris) array e dan f\n",
        "np.r_[e,f]"
      ],
      "execution_count": 89,
      "outputs": [
        {
          "output_type": "execute_result",
          "data": {
            "text/plain": [
              "array([[7., 7.],\n",
              "       [7., 7.],\n",
              "       [1., 0.],\n",
              "       [0., 1.]])"
            ]
          },
          "metadata": {},
          "execution_count": 89
        }
      ]
    },
    {
      "cell_type": "markdown",
      "metadata": {
        "id": "1d9ruoHFsXgE"
      },
      "source": [
        "### Stack arrays horizontally (column-wise)"
      ]
    },
    {
      "cell_type": "code",
      "metadata": {
        "id": "DLRKp0tlsXgF",
        "outputId": "a5103216-1a9a-4dbe-d964-9adeed7569ef",
        "colab": {
          "base_uri": "https://localhost:8080/"
        }
      },
      "source": [
        "# Susunan array secara horizontal (berdasarkan kolom) array e dan f\n",
        "np.hstack((e,f))"
      ],
      "execution_count": 90,
      "outputs": [
        {
          "output_type": "execute_result",
          "data": {
            "text/plain": [
              "array([[7., 7., 1., 0.],\n",
              "       [7., 7., 0., 1.]])"
            ]
          },
          "metadata": {},
          "execution_count": 90
        }
      ]
    },
    {
      "cell_type": "markdown",
      "metadata": {
        "id": "_W7JKsxssXgF"
      },
      "source": [
        "### Create stacked column-wise arrays "
      ]
    },
    {
      "cell_type": "code",
      "metadata": {
        "id": "CmI6tXRNsXgF",
        "outputId": "e5f90441-5002-449e-884c-d147180e37ac",
        "colab": {
          "base_uri": "https://localhost:8080/"
        }
      },
      "source": [
        "a"
      ],
      "execution_count": 91,
      "outputs": [
        {
          "output_type": "execute_result",
          "data": {
            "text/plain": [
              "array([1, 2, 3])"
            ]
          },
          "metadata": {},
          "execution_count": 91
        }
      ]
    },
    {
      "cell_type": "code",
      "metadata": {
        "id": "wcyAweArsXgF",
        "outputId": "269362a8-3cc8-4723-917f-1c289d1c5fa2",
        "colab": {
          "base_uri": "https://localhost:8080/"
        }
      },
      "source": [
        "d"
      ],
      "execution_count": 92,
      "outputs": [
        {
          "output_type": "execute_result",
          "data": {
            "text/plain": [
              "array([10, 15, 20])"
            ]
          },
          "metadata": {},
          "execution_count": 92
        }
      ]
    },
    {
      "cell_type": "code",
      "metadata": {
        "id": "lY_L0I1LsXgG",
        "outputId": "df41a53c-574c-4458-e345-7a672d5ae464",
        "colab": {
          "base_uri": "https://localhost:8080/"
        }
      },
      "source": [
        "# Susunan berdasarkan kolom array a dan d\n",
        "np.column_stack((a,d))"
      ],
      "execution_count": 93,
      "outputs": [
        {
          "output_type": "execute_result",
          "data": {
            "text/plain": [
              "array([[ 1, 10],\n",
              "       [ 2, 15],\n",
              "       [ 3, 20]])"
            ]
          },
          "metadata": {},
          "execution_count": 93
        }
      ]
    },
    {
      "cell_type": "markdown",
      "metadata": {
        "id": "TI6yUZxNsXgG"
      },
      "source": [
        "### Create stacked column-wise arrays"
      ]
    },
    {
      "cell_type": "code",
      "metadata": {
        "scrolled": true,
        "id": "DtucqXS0sXgG",
        "outputId": "46a1d0b6-7780-457f-d07c-2c5d9e574ede",
        "colab": {
          "base_uri": "https://localhost:8080/"
        }
      },
      "source": [
        "# Susunan berdasarkan kolom array a dan d\n",
        "np.c_[a,d]"
      ],
      "execution_count": 94,
      "outputs": [
        {
          "output_type": "execute_result",
          "data": {
            "text/plain": [
              "array([[ 1, 10],\n",
              "       [ 2, 15],\n",
              "       [ 3, 20]])"
            ]
          },
          "metadata": {},
          "execution_count": 94
        }
      ]
    },
    {
      "cell_type": "markdown",
      "metadata": {
        "id": "YZ7TuXPGsXgG"
      },
      "source": [
        "## Splitting Arrays"
      ]
    },
    {
      "cell_type": "markdown",
      "metadata": {
        "id": "sEA8OJQ1sXgG"
      },
      "source": [
        "### Split the array horizontally at the 3rd index"
      ]
    },
    {
      "cell_type": "code",
      "metadata": {
        "id": "c7jARc0-sXgH",
        "outputId": "699a167b-37e8-41bd-c0ba-13344e0d7251",
        "colab": {
          "base_uri": "https://localhost:8080/"
        }
      },
      "source": [
        "# Memisahkan array a secara horizontal pada indeks ke-3\n",
        "np.hsplit(a,3)"
      ],
      "execution_count": 95,
      "outputs": [
        {
          "output_type": "execute_result",
          "data": {
            "text/plain": [
              "[array([1]), array([2]), array([3])]"
            ]
          },
          "metadata": {},
          "execution_count": 95
        }
      ]
    },
    {
      "cell_type": "markdown",
      "metadata": {
        "id": "bSmI_piJsXgH"
      },
      "source": [
        "### Split the array vertically at the 2nd index"
      ]
    },
    {
      "cell_type": "code",
      "metadata": {
        "id": "G0uOWkWisXgH",
        "outputId": "c4a2d031-31bb-477a-e8fd-401a916f215a",
        "colab": {
          "base_uri": "https://localhost:8080/"
        }
      },
      "source": [
        "# Memisahkan array c secara vertikal pada indeks ke-2\n",
        "np.vsplit(c,2)"
      ],
      "execution_count": 96,
      "outputs": [
        {
          "output_type": "execute_result",
          "data": {
            "text/plain": [
              "[array([[[1.5, 2. , 1. ],\n",
              "         [4. , 5. , 6. ]]]), array([[[3., 2., 3.],\n",
              "         [4., 5., 6.]]])]"
            ]
          },
          "metadata": {},
          "execution_count": 96
        }
      ]
    },
    {
      "cell_type": "markdown",
      "metadata": {
        "id": "SD0Imgr8sXgH"
      },
      "source": [
        "# Thank You"
      ]
    }
  ]
}