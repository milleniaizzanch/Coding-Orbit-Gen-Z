{
  "nbformat": 4,
  "nbformat_minor": 0,
  "metadata": {
    "colab": {
      "name": "Salinan dari Diki Wahyu P_RB-04_TF-IDF & Cosine Similarity.ipynb",
      "provenance": [],
      "collapsed_sections": [],
      "include_colab_link": true
    },
    "kernelspec": {
      "name": "python3",
      "display_name": "Python 3"
    },
    "language_info": {
      "name": "python"
    }
  },
  "cells": [
    {
      "cell_type": "markdown",
      "metadata": {
        "id": "view-in-github",
        "colab_type": "text"
      },
      "source": [
        "<a href=\"https://colab.research.google.com/github/milleniaizzanch/Latihan-Coding-Orbit-Gen-Z/blob/main/RB_04_TF_IDF_%26_Cosine_Similarity.ipynb\" target=\"_parent\"><img src=\"https://colab.research.google.com/assets/colab-badge.svg\" alt=\"Open In Colab\"/></a>"
      ]
    },
    {
      "cell_type": "code",
      "metadata": {
        "id": "RP6hW8NDVzaI"
      },
      "source": [
        "import nltk\n",
        "from nltk.tokenize import word_tokenize\n",
        "from gensim.models import Word2Vec\n",
        "import re"
      ],
      "execution_count": 1,
      "outputs": []
    },
    {
      "cell_type": "code",
      "metadata": {
        "colab": {
          "base_uri": "https://localhost:8080/"
        },
        "id": "gKe7ZPUfmjYA",
        "outputId": "887939f1-fb52-418d-fdfb-395fc225ae65"
      },
      "source": [
        "nltk.download('punkt')"
      ],
      "execution_count": 2,
      "outputs": [
        {
          "output_type": "stream",
          "name": "stdout",
          "text": [
            "[nltk_data] Downloading package punkt to /root/nltk_data...\n",
            "[nltk_data]   Unzipping tokenizers/punkt.zip.\n"
          ]
        },
        {
          "output_type": "execute_result",
          "data": {
            "text/plain": [
              "True"
            ]
          },
          "metadata": {},
          "execution_count": 2
        }
      ]
    },
    {
      "cell_type": "markdown",
      "source": [
        "##Bag of words"
      ],
      "metadata": {
        "id": "sI-T8JgQLDDN"
      }
    },
    {
      "cell_type": "code",
      "metadata": {
        "id": "rmfhSdxekrEh"
      },
      "source": [
        "komentar = [\n",
        "          \"Pengiriman cepat, kualitas produk baik, penjual ramah\",\n",
        "          \"Produk tidak sesuai gambar, tapi memang sesuai harga\",\n",
        "          \"penjual responsif dan ramah, produk berfungsi dengan baik\",\n",
        "          \"Lumayan untuk harga segini sudah dapat produk bagus\",\n",
        "          \"Tidak sesuai ekspektasi, produk berbeda dengan gambar\",    \n",
        "]"
      ],
      "execution_count": 3,
      "outputs": []
    },
    {
      "cell_type": "markdown",
      "source": [
        "Kita juga perlu merubah semua huruf kapital menjadi huruf kecil "
      ],
      "metadata": {
        "id": "NNAi9IRwLQDg"
      }
    },
    {
      "cell_type": "code",
      "metadata": {
        "colab": {
          "base_uri": "https://localhost:8080/"
        },
        "id": "QX4OeAmEmsdL",
        "outputId": "18f02192-8a7c-4e94-8e55-d7968a511d41"
      },
      "source": [
        "komentar = [re.sub(r'[,.]', '', k) for k in komentar]\n",
        "komentar"
      ],
      "execution_count": 4,
      "outputs": [
        {
          "output_type": "execute_result",
          "data": {
            "text/plain": [
              "['Pengiriman cepat kualitas produk baik penjual ramah',\n",
              " 'Produk tidak sesuai gambar tapi memang sesuai harga',\n",
              " 'penjual responsif dan ramah produk berfungsi dengan baik',\n",
              " 'Lumayan untuk harga segini sudah dapat produk bagus',\n",
              " 'Tidak sesuai ekspektasi produk berbeda dengan gambar']"
            ]
          },
          "metadata": {},
          "execution_count": 4
        }
      ]
    },
    {
      "cell_type": "code",
      "metadata": {
        "colab": {
          "base_uri": "https://localhost:8080/"
        },
        "id": "KJPae-LBmH3N",
        "outputId": "060b2fd6-9dbe-4fa7-a498-1627eebf0b3d"
      },
      "source": [
        "corpus = [word_tokenize(k.lower()) for k in komentar]\n",
        "print(corpus)"
      ],
      "execution_count": 5,
      "outputs": [
        {
          "output_type": "stream",
          "name": "stdout",
          "text": [
            "[['pengiriman', 'cepat', 'kualitas', 'produk', 'baik', 'penjual', 'ramah'], ['produk', 'tidak', 'sesuai', 'gambar', 'tapi', 'memang', 'sesuai', 'harga'], ['penjual', 'responsif', 'dan', 'ramah', 'produk', 'berfungsi', 'dengan', 'baik'], ['lumayan', 'untuk', 'harga', 'segini', 'sudah', 'dapat', 'produk', 'bagus'], ['tidak', 'sesuai', 'ekspektasi', 'produk', 'berbeda', 'dengan', 'gambar']]\n"
          ]
        }
      ]
    },
    {
      "cell_type": "markdown",
      "metadata": {
        "id": "ilqs6oh8nJyx"
      },
      "source": [
        "## Train Word2Vec Model"
      ]
    },
    {
      "cell_type": "code",
      "metadata": {
        "id": "Zr3eUJ0Tmfmt"
      },
      "source": [
        "model = Word2Vec(corpus, size=100, window=5, workers=2, min_count=1, iter=100)\n"
      ],
      "execution_count": 6,
      "outputs": []
    },
    {
      "cell_type": "markdown",
      "metadata": {
        "id": "W3GOj9NDobAK"
      },
      "source": [
        "## Menyimpan model"
      ]
    },
    {
      "cell_type": "code",
      "metadata": {
        "id": "4me7Ne3gn3OM"
      },
      "source": [
        "model.save(\"komentar_app.w2v\")"
      ],
      "execution_count": 7,
      "outputs": []
    },
    {
      "cell_type": "markdown",
      "metadata": {
        "id": "6_RJ3olWocLH"
      },
      "source": [
        "## Load Model\n",
        "> Menggunakan pretrained model (model yang sudah dibuat sebelumnya)"
      ]
    },
    {
      "cell_type": "code",
      "metadata": {
        "id": "LIRAsG-Jn9Hn"
      },
      "source": [
        "model = Word2Vec.load(\"komentar_app.w2v\")\n"
      ],
      "execution_count": 8,
      "outputs": []
    },
    {
      "cell_type": "markdown",
      "metadata": {
        "id": "X6jijQCcorCg"
      },
      "source": [
        "## Menampilkan Informasi dari Model yang Sudah Dibuat"
      ]
    },
    {
      "cell_type": "code",
      "metadata": {
        "id": "XCc72C54ot_w"
      },
      "source": [
        "w2v = model.wv"
      ],
      "execution_count": 9,
      "outputs": []
    },
    {
      "cell_type": "code",
      "metadata": {
        "colab": {
          "base_uri": "https://localhost:8080/"
        },
        "id": "ZKrvWt9Io422",
        "outputId": "14b4bdc2-a66e-4778-e200-075aeaaab48f"
      },
      "source": [
        "w2v.index2word"
      ],
      "execution_count": 10,
      "outputs": [
        {
          "output_type": "execute_result",
          "data": {
            "text/plain": [
              "['produk',\n",
              " 'sesuai',\n",
              " 'baik',\n",
              " 'penjual',\n",
              " 'ramah',\n",
              " 'tidak',\n",
              " 'gambar',\n",
              " 'harga',\n",
              " 'dengan',\n",
              " 'pengiriman',\n",
              " 'cepat',\n",
              " 'kualitas',\n",
              " 'tapi',\n",
              " 'memang',\n",
              " 'responsif',\n",
              " 'dan',\n",
              " 'berfungsi',\n",
              " 'lumayan',\n",
              " 'untuk',\n",
              " 'segini',\n",
              " 'sudah',\n",
              " 'dapat',\n",
              " 'bagus',\n",
              " 'ekspektasi',\n",
              " 'berbeda']"
            ]
          },
          "metadata": {},
          "execution_count": 10
        }
      ]
    },
    {
      "cell_type": "code",
      "metadata": {
        "colab": {
          "base_uri": "https://localhost:8080/"
        },
        "id": "cINrhrKWpDwK",
        "outputId": "88bf8afc-52e1-40a4-cb0a-ab8def9e7375"
      },
      "source": [
        "# Menampilkan vector yang sudah dibuat dari dokumen teks\n",
        "w2v.vectors"
      ],
      "execution_count": 11,
      "outputs": [
        {
          "output_type": "execute_result",
          "data": {
            "text/plain": [
              "array([[ 0.00289864,  0.00113463,  0.00063   , ...,  0.00215582,\n",
              "         0.00222052, -0.0009732 ],\n",
              "       [ 0.00116727, -0.00379367,  0.00445426, ...,  0.0012387 ,\n",
              "        -0.00237151, -0.00142878],\n",
              "       [-0.00186593, -0.00295031,  0.00220748, ..., -0.00217583,\n",
              "         0.00419689,  0.00301165],\n",
              "       ...,\n",
              "       [-0.0048882 , -0.00285689, -0.00447134, ..., -0.00343513,\n",
              "        -0.00391394,  0.00409783],\n",
              "       [ 0.00125162, -0.00465855, -0.0012465 , ...,  0.00012166,\n",
              "        -0.00042011, -0.0002869 ],\n",
              "       [-0.0021838 , -0.0028727 , -0.00114014, ...,  0.00463746,\n",
              "        -0.00203016, -0.00212829]], dtype=float32)"
            ]
          },
          "metadata": {},
          "execution_count": 11
        }
      ]
    },
    {
      "cell_type": "code",
      "metadata": {
        "colab": {
          "base_uri": "https://localhost:8080/"
        },
        "id": "lyQPHKDQpfLi",
        "outputId": "935b0317-fa70-49e5-f0a3-7d6bfa18d02e"
      },
      "source": [
        "# Menampilkan ukuran vektor\n",
        "w2v.vector_size"
      ],
      "execution_count": 12,
      "outputs": [
        {
          "output_type": "execute_result",
          "data": {
            "text/plain": [
              "100"
            ]
          },
          "metadata": {},
          "execution_count": 12
        }
      ]
    },
    {
      "cell_type": "code",
      "metadata": {
        "colab": {
          "base_uri": "https://localhost:8080/"
        },
        "id": "u1htiGu_p36V",
        "outputId": "2428fe10-4de8-4a80-f620-565bb784f801"
      },
      "source": [
        "# Menampilkan vektor kata yang terdapat pada vocabulary\n",
        "w2v['berbeda']"
      ],
      "execution_count": 13,
      "outputs": [
        {
          "output_type": "execute_result",
          "data": {
            "text/plain": [
              "array([-2.18379567e-03, -2.87270360e-03, -1.14013557e-03,  5.19272173e-04,\n",
              "       -2.83287559e-03, -7.24488054e-04,  2.18090066e-03,  2.58763647e-03,\n",
              "        2.91060586e-03,  1.19745955e-05,  3.16341128e-03, -3.91918607e-03,\n",
              "        2.74672615e-03, -3.42307170e-03,  4.69891867e-03,  1.31726149e-03,\n",
              "        2.08972162e-03, -4.65855934e-03, -1.61951742e-04, -2.42658053e-03,\n",
              "       -4.47220448e-03,  2.97101284e-03, -4.67794109e-03, -4.78714658e-03,\n",
              "       -3.66744353e-03, -3.87111912e-03,  2.49780453e-04,  4.22640471e-03,\n",
              "       -3.64683755e-03, -3.89720546e-03,  1.99692161e-03,  3.82089638e-03,\n",
              "       -2.30545193e-04,  1.78288331e-03,  4.16547153e-03, -3.17923445e-03,\n",
              "       -4.02007019e-03, -2.09239940e-03, -6.38709345e-04,  2.42389948e-03,\n",
              "        2.98827700e-03,  1.65994745e-03, -3.95548064e-03, -1.77673565e-03,\n",
              "        4.84346040e-03,  2.78295833e-03, -2.56012101e-03, -3.00503126e-03,\n",
              "        9.41253616e-04, -3.72020848e-04, -2.98821065e-03, -2.22013704e-03,\n",
              "       -2.49469350e-03,  2.40061525e-03, -2.79196166e-03,  9.40731668e-04,\n",
              "       -1.73117802e-03,  3.61876795e-03,  3.90017824e-03,  4.25870670e-03,\n",
              "        3.56971566e-03, -2.63309828e-03,  1.71656674e-03,  4.06198669e-03,\n",
              "        1.17821246e-03, -9.46143235e-04, -4.29071952e-03,  5.25165233e-04,\n",
              "       -4.82795323e-04, -1.09235651e-03, -1.20960723e-03,  2.90341233e-03,\n",
              "       -3.16218915e-03, -3.95007292e-03, -1.23205522e-04, -3.69291939e-03,\n",
              "        2.62201228e-03, -2.12613633e-03, -3.01774801e-03, -9.92478454e-04,\n",
              "        2.33280961e-03,  7.60641706e-04, -1.34380127e-03, -2.77974107e-03,\n",
              "       -2.77734501e-03,  2.69273622e-03,  3.49847192e-04,  3.96887865e-03,\n",
              "       -2.94163241e-03,  9.22185020e-04,  7.05912709e-04,  5.24468021e-04,\n",
              "        1.62261247e-03,  4.34866175e-03,  1.20407413e-03,  1.13307557e-03,\n",
              "       -3.74423759e-03,  4.63746022e-03, -2.03015888e-03, -2.12828862e-03],\n",
              "      dtype=float32)"
            ]
          },
          "metadata": {},
          "execution_count": 13
        }
      ]
    },
    {
      "cell_type": "markdown",
      "metadata": {
        "id": "TPklgZ0AqX4O"
      },
      "source": [
        "## Sanity Check\n",
        "> Untuk mengetahui apakah model yang sudah kita train sudah memiliki makna atau masih perlu dilakukan training lanjutan"
      ]
    },
    {
      "cell_type": "markdown",
      "metadata": {
        "id": "LYb7IP93qin1"
      },
      "source": [
        "### Similar Word"
      ]
    },
    {
      "cell_type": "code",
      "metadata": {
        "colab": {
          "base_uri": "https://localhost:8080/"
        },
        "id": "-0xUDnlFp-6n",
        "outputId": "20096c1a-0cda-4e58-db29-6654a15b99ed"
      },
      "source": [
        "# Menampilkan kata yang memiliki kemiripan makna dengan kata `produk`\n",
        "# atau dalam kata lain yaitu melihat hubungan semantik dari kata `produk` dengan kata lainnya.\n",
        "w2v.similar_by_word(\"produk\", topn=5)"
      ],
      "execution_count": 14,
      "outputs": [
        {
          "output_type": "execute_result",
          "data": {
            "text/plain": [
              "[('cepat', 0.1434621661901474),\n",
              " ('pengiriman', 0.12513817846775055),\n",
              " ('harga', 0.0938810259103775),\n",
              " ('sudah', 0.09278800338506699),\n",
              " ('dengan', 0.04946111515164375)]"
            ]
          },
          "metadata": {},
          "execution_count": 14
        }
      ]
    },
    {
      "cell_type": "markdown",
      "metadata": {
        "id": "AZ7e5HNHte2X"
      },
      "source": [
        "---"
      ]
    },
    {
      "cell_type": "markdown",
      "metadata": {
        "id": "hRyse1QFzwUf"
      },
      "source": [
        "## TF-IDF"
      ]
    },
    {
      "cell_type": "code",
      "metadata": {
        "colab": {
          "base_uri": "https://localhost:8080/"
        },
        "id": "AEnPHEPH1uzL",
        "outputId": "5fc967e4-87af-45e3-a8f6-3ece5e54b01d"
      },
      "source": [
        "# Menggunakan dataset yang sama seperti pada Word2vec. \n",
        "komentar"
      ],
      "execution_count": 15,
      "outputs": [
        {
          "output_type": "execute_result",
          "data": {
            "text/plain": [
              "['Pengiriman cepat kualitas produk baik penjual ramah',\n",
              " 'Produk tidak sesuai gambar tapi memang sesuai harga',\n",
              " 'penjual responsif dan ramah produk berfungsi dengan baik',\n",
              " 'Lumayan untuk harga segini sudah dapat produk bagus',\n",
              " 'Tidak sesuai ekspektasi produk berbeda dengan gambar']"
            ]
          },
          "metadata": {},
          "execution_count": 15
        }
      ]
    },
    {
      "cell_type": "code",
      "source": [
        "komentar"
      ],
      "metadata": {
        "id": "F6CdTQPLh_-E",
        "colab": {
          "base_uri": "https://localhost:8080/"
        },
        "outputId": "c32d03d9-79be-48a2-8e1a-b7886c6f11bb"
      },
      "execution_count": 16,
      "outputs": [
        {
          "output_type": "execute_result",
          "data": {
            "text/plain": [
              "['Pengiriman cepat kualitas produk baik penjual ramah',\n",
              " 'Produk tidak sesuai gambar tapi memang sesuai harga',\n",
              " 'penjual responsif dan ramah produk berfungsi dengan baik',\n",
              " 'Lumayan untuk harga segini sudah dapat produk bagus',\n",
              " 'Tidak sesuai ekspektasi produk berbeda dengan gambar']"
            ]
          },
          "metadata": {},
          "execution_count": 16
        }
      ]
    },
    {
      "cell_type": "code",
      "metadata": {
        "id": "DYJzS0h9shOE"
      },
      "source": [
        "# Import Library yang dibutuhkan\n",
        "from sklearn.feature_extraction.text import TfidfVectorizer\n",
        "import pandas as pd\n",
        "\n",
        "\n",
        "vectorizer = TfidfVectorizer()\n",
        "result = vectorizer.fit_transform(komentar) #tfidf"
      ],
      "execution_count": 17,
      "outputs": []
    },
    {
      "cell_type": "code",
      "metadata": {
        "colab": {
          "base_uri": "https://localhost:8080/"
        },
        "id": "Ev0sewgU15Be",
        "outputId": "ee187096-38fb-41f9-acc3-96f4ad0fc9f2"
      },
      "source": [
        "# Menampilkan nama fitur / token dari dataset\n",
        "print(vectorizer.get_feature_names())"
      ],
      "execution_count": 18,
      "outputs": [
        {
          "output_type": "stream",
          "name": "stdout",
          "text": [
            "['bagus', 'baik', 'berbeda', 'berfungsi', 'cepat', 'dan', 'dapat', 'dengan', 'ekspektasi', 'gambar', 'harga', 'kualitas', 'lumayan', 'memang', 'pengiriman', 'penjual', 'produk', 'ramah', 'responsif', 'segini', 'sesuai', 'sudah', 'tapi', 'tidak', 'untuk']\n"
          ]
        },
        {
          "output_type": "stream",
          "name": "stderr",
          "text": [
            "/usr/local/lib/python3.7/dist-packages/sklearn/utils/deprecation.py:87: FutureWarning: Function get_feature_names is deprecated; get_feature_names is deprecated in 1.0 and will be removed in 1.2. Please use get_feature_names_out instead.\n",
            "  warnings.warn(msg, category=FutureWarning)\n"
          ]
        }
      ]
    },
    {
      "cell_type": "code",
      "metadata": {
        "colab": {
          "base_uri": "https://localhost:8080/"
        },
        "id": "zKAohjpG10w5",
        "outputId": "b3ebbe93-f6cd-48ed-bc44-968e3d19ed8a"
      },
      "source": [
        "# Menampilkan hasil vektor kata\n",
        "print(result)"
      ],
      "execution_count": 19,
      "outputs": [
        {
          "output_type": "stream",
          "name": "stdout",
          "text": [
            "  (0, 17)\t0.354491454113195\n",
            "  (0, 15)\t0.354491454113195\n",
            "  (0, 1)\t0.354491454113195\n",
            "  (0, 16)\t0.20936836335513379\n",
            "  (0, 11)\t0.4393830201954138\n",
            "  (0, 4)\t0.4393830201954138\n",
            "  (0, 14)\t0.4393830201954138\n",
            "  (1, 10)\t0.3097679976786992\n",
            "  (1, 13)\t0.38394944871221537\n",
            "  (1, 22)\t0.38394944871221537\n",
            "  (1, 9)\t0.3097679976786992\n",
            "  (1, 20)\t0.6195359953573985\n",
            "  (1, 23)\t0.3097679976786992\n",
            "  (1, 16)\t0.18295396952806844\n",
            "  (2, 7)\t0.33411913201775406\n",
            "  (2, 3)\t0.4141320520639498\n",
            "  (2, 5)\t0.4141320520639498\n",
            "  (2, 18)\t0.4141320520639498\n",
            "  (2, 17)\t0.33411913201775406\n",
            "  (2, 15)\t0.33411913201775406\n",
            "  (2, 1)\t0.33411913201775406\n",
            "  (2, 16)\t0.1973361417447812\n",
            "  (3, 0)\t0.3813025879625254\n",
            "  (3, 6)\t0.3813025879625254\n",
            "  (3, 21)\t0.3813025879625254\n",
            "  (3, 19)\t0.3813025879625254\n",
            "  (3, 24)\t0.3813025879625254\n",
            "  (3, 12)\t0.3813025879625254\n",
            "  (3, 10)\t0.30763252709183986\n",
            "  (3, 16)\t0.18169272619885407\n",
            "  (4, 2)\t0.4549817658305219\n",
            "  (4, 8)\t0.4549817658305219\n",
            "  (4, 7)\t0.36707642387391093\n",
            "  (4, 9)\t0.36707642387391093\n",
            "  (4, 20)\t0.36707642387391093\n",
            "  (4, 23)\t0.36707642387391093\n",
            "  (4, 16)\t0.21680124922897376\n"
          ]
        }
      ]
    },
    {
      "cell_type": "markdown",
      "metadata": {
        "id": "gvtQRTZX8Llu"
      },
      "source": [
        "**(4, 16)\t0.21680124922897376**\n",
        "Artinya:\n",
        "> Terdapat kata dengan index ke-16 pada `vectorizer.get_feature_names()` dalam dokumen ke-5 (index dari nol)\n",
        ">\n",
        "> dengan bobot TF-IDF 0.21680124922897376"
      ]
    },
    {
      "cell_type": "code",
      "metadata": {
        "colab": {
          "base_uri": "https://localhost:8080/"
        },
        "id": "Cx-59-0B8POw",
        "outputId": "3c256b50-2348-4059-b87a-635bb0e00a9d"
      },
      "source": [
        "print(f\"Teks dokumen ke-{4+1}:\\n{komentar[4]}\")\n",
        "print(f\"Fitur Name ke-16: {vectorizer.get_feature_names()[16]}\")"
      ],
      "execution_count": 20,
      "outputs": [
        {
          "output_type": "stream",
          "name": "stdout",
          "text": [
            "Teks dokumen ke-5:\n",
            "Tidak sesuai ekspektasi produk berbeda dengan gambar\n",
            "Fitur Name ke-16: produk\n"
          ]
        },
        {
          "output_type": "stream",
          "name": "stderr",
          "text": [
            "/usr/local/lib/python3.7/dist-packages/sklearn/utils/deprecation.py:87: FutureWarning: Function get_feature_names is deprecated; get_feature_names is deprecated in 1.0 and will be removed in 1.2. Please use get_feature_names_out instead.\n",
            "  warnings.warn(msg, category=FutureWarning)\n"
          ]
        }
      ]
    },
    {
      "cell_type": "markdown",
      "metadata": {
        "id": "QDZxrB4p8STH"
      },
      "source": [
        "> Dapat diketahui bahwa di dalam dokumen ke-1 (index ke-0) terdapat kata produk"
      ]
    },
    {
      "cell_type": "code",
      "source": [
        "result.todense()"
      ],
      "metadata": {
        "id": "sGYas1i9jEv2",
        "colab": {
          "base_uri": "https://localhost:8080/"
        },
        "outputId": "f74c81fa-d84f-4c41-c2c5-468591aa7621"
      },
      "execution_count": 21,
      "outputs": [
        {
          "output_type": "execute_result",
          "data": {
            "text/plain": [
              "matrix([[0.        , 0.35449145, 0.        , 0.        , 0.43938302,\n",
              "         0.        , 0.        , 0.        , 0.        , 0.        ,\n",
              "         0.        , 0.43938302, 0.        , 0.        , 0.43938302,\n",
              "         0.35449145, 0.20936836, 0.35449145, 0.        , 0.        ,\n",
              "         0.        , 0.        , 0.        , 0.        , 0.        ],\n",
              "        [0.        , 0.        , 0.        , 0.        , 0.        ,\n",
              "         0.        , 0.        , 0.        , 0.        , 0.309768  ,\n",
              "         0.309768  , 0.        , 0.        , 0.38394945, 0.        ,\n",
              "         0.        , 0.18295397, 0.        , 0.        , 0.        ,\n",
              "         0.619536  , 0.        , 0.38394945, 0.309768  , 0.        ],\n",
              "        [0.        , 0.33411913, 0.        , 0.41413205, 0.        ,\n",
              "         0.41413205, 0.        , 0.33411913, 0.        , 0.        ,\n",
              "         0.        , 0.        , 0.        , 0.        , 0.        ,\n",
              "         0.33411913, 0.19733614, 0.33411913, 0.41413205, 0.        ,\n",
              "         0.        , 0.        , 0.        , 0.        , 0.        ],\n",
              "        [0.38130259, 0.        , 0.        , 0.        , 0.        ,\n",
              "         0.        , 0.38130259, 0.        , 0.        , 0.        ,\n",
              "         0.30763253, 0.        , 0.38130259, 0.        , 0.        ,\n",
              "         0.        , 0.18169273, 0.        , 0.        , 0.38130259,\n",
              "         0.        , 0.38130259, 0.        , 0.        , 0.38130259],\n",
              "        [0.        , 0.        , 0.45498177, 0.        , 0.        ,\n",
              "         0.        , 0.        , 0.36707642, 0.45498177, 0.36707642,\n",
              "         0.        , 0.        , 0.        , 0.        , 0.        ,\n",
              "         0.        , 0.21680125, 0.        , 0.        , 0.        ,\n",
              "         0.36707642, 0.        , 0.        , 0.36707642, 0.        ]])"
            ]
          },
          "metadata": {},
          "execution_count": 21
        }
      ]
    },
    {
      "cell_type": "code",
      "metadata": {
        "id": "SDBhuCu-2V7Z",
        "colab": {
          "base_uri": "https://localhost:8080/"
        },
        "outputId": "34dc9951-6c9c-4a68-efca-8fb1c4dcc1c4"
      },
      "source": [
        "# Menampilkan hasil TF-IDF dalam bentuk list dua dimensi\n",
        "result.todense()"
      ],
      "execution_count": 22,
      "outputs": [
        {
          "output_type": "execute_result",
          "data": {
            "text/plain": [
              "matrix([[0.        , 0.35449145, 0.        , 0.        , 0.43938302,\n",
              "         0.        , 0.        , 0.        , 0.        , 0.        ,\n",
              "         0.        , 0.43938302, 0.        , 0.        , 0.43938302,\n",
              "         0.35449145, 0.20936836, 0.35449145, 0.        , 0.        ,\n",
              "         0.        , 0.        , 0.        , 0.        , 0.        ],\n",
              "        [0.        , 0.        , 0.        , 0.        , 0.        ,\n",
              "         0.        , 0.        , 0.        , 0.        , 0.309768  ,\n",
              "         0.309768  , 0.        , 0.        , 0.38394945, 0.        ,\n",
              "         0.        , 0.18295397, 0.        , 0.        , 0.        ,\n",
              "         0.619536  , 0.        , 0.38394945, 0.309768  , 0.        ],\n",
              "        [0.        , 0.33411913, 0.        , 0.41413205, 0.        ,\n",
              "         0.41413205, 0.        , 0.33411913, 0.        , 0.        ,\n",
              "         0.        , 0.        , 0.        , 0.        , 0.        ,\n",
              "         0.33411913, 0.19733614, 0.33411913, 0.41413205, 0.        ,\n",
              "         0.        , 0.        , 0.        , 0.        , 0.        ],\n",
              "        [0.38130259, 0.        , 0.        , 0.        , 0.        ,\n",
              "         0.        , 0.38130259, 0.        , 0.        , 0.        ,\n",
              "         0.30763253, 0.        , 0.38130259, 0.        , 0.        ,\n",
              "         0.        , 0.18169273, 0.        , 0.        , 0.38130259,\n",
              "         0.        , 0.38130259, 0.        , 0.        , 0.38130259],\n",
              "        [0.        , 0.        , 0.45498177, 0.        , 0.        ,\n",
              "         0.        , 0.        , 0.36707642, 0.45498177, 0.36707642,\n",
              "         0.        , 0.        , 0.        , 0.        , 0.        ,\n",
              "         0.        , 0.21680125, 0.        , 0.        , 0.        ,\n",
              "         0.36707642, 0.        , 0.        , 0.36707642, 0.        ]])"
            ]
          },
          "metadata": {},
          "execution_count": 22
        }
      ]
    },
    {
      "cell_type": "code",
      "metadata": {
        "colab": {
          "base_uri": "https://localhost:8080/",
          "height": 888
        },
        "id": "9j2RVkIb2ZkT",
        "outputId": "bf25b9fd-7bbb-45a2-acef-e72eb01857bd"
      },
      "source": [
        "# Membuat dataframe dari list dua dimensi tersebut. \n",
        "# Dilakukan transpose agar nama kolom berubah menjadi nama baris\n",
        "# Nama kolom diubah menjadi urutan dokumen\n",
        "df = pd.DataFrame(result.todense().T,\n",
        "                  index=vectorizer.get_feature_names(),\n",
        "                  columns=[f\"D{i+1}\" for i in range(len(komentar))])\n",
        "df"
      ],
      "execution_count": 23,
      "outputs": [
        {
          "output_type": "stream",
          "name": "stderr",
          "text": [
            "/usr/local/lib/python3.7/dist-packages/sklearn/utils/deprecation.py:87: FutureWarning: Function get_feature_names is deprecated; get_feature_names is deprecated in 1.0 and will be removed in 1.2. Please use get_feature_names_out instead.\n",
            "  warnings.warn(msg, category=FutureWarning)\n"
          ]
        },
        {
          "output_type": "execute_result",
          "data": {
            "text/plain": [
              "                  D1        D2        D3        D4        D5\n",
              "bagus       0.000000  0.000000  0.000000  0.381303  0.000000\n",
              "baik        0.354491  0.000000  0.334119  0.000000  0.000000\n",
              "berbeda     0.000000  0.000000  0.000000  0.000000  0.454982\n",
              "berfungsi   0.000000  0.000000  0.414132  0.000000  0.000000\n",
              "cepat       0.439383  0.000000  0.000000  0.000000  0.000000\n",
              "dan         0.000000  0.000000  0.414132  0.000000  0.000000\n",
              "dapat       0.000000  0.000000  0.000000  0.381303  0.000000\n",
              "dengan      0.000000  0.000000  0.334119  0.000000  0.367076\n",
              "ekspektasi  0.000000  0.000000  0.000000  0.000000  0.454982\n",
              "gambar      0.000000  0.309768  0.000000  0.000000  0.367076\n",
              "harga       0.000000  0.309768  0.000000  0.307633  0.000000\n",
              "kualitas    0.439383  0.000000  0.000000  0.000000  0.000000\n",
              "lumayan     0.000000  0.000000  0.000000  0.381303  0.000000\n",
              "memang      0.000000  0.383949  0.000000  0.000000  0.000000\n",
              "pengiriman  0.439383  0.000000  0.000000  0.000000  0.000000\n",
              "penjual     0.354491  0.000000  0.334119  0.000000  0.000000\n",
              "produk      0.209368  0.182954  0.197336  0.181693  0.216801\n",
              "ramah       0.354491  0.000000  0.334119  0.000000  0.000000\n",
              "responsif   0.000000  0.000000  0.414132  0.000000  0.000000\n",
              "segini      0.000000  0.000000  0.000000  0.381303  0.000000\n",
              "sesuai      0.000000  0.619536  0.000000  0.000000  0.367076\n",
              "sudah       0.000000  0.000000  0.000000  0.381303  0.000000\n",
              "tapi        0.000000  0.383949  0.000000  0.000000  0.000000\n",
              "tidak       0.000000  0.309768  0.000000  0.000000  0.367076\n",
              "untuk       0.000000  0.000000  0.000000  0.381303  0.000000"
            ],
            "text/html": [
              "\n",
              "  <div id=\"df-b5d690d8-c3b1-41a6-8a76-6f73cadaf3b6\">\n",
              "    <div class=\"colab-df-container\">\n",
              "      <div>\n",
              "<style scoped>\n",
              "    .dataframe tbody tr th:only-of-type {\n",
              "        vertical-align: middle;\n",
              "    }\n",
              "\n",
              "    .dataframe tbody tr th {\n",
              "        vertical-align: top;\n",
              "    }\n",
              "\n",
              "    .dataframe thead th {\n",
              "        text-align: right;\n",
              "    }\n",
              "</style>\n",
              "<table border=\"1\" class=\"dataframe\">\n",
              "  <thead>\n",
              "    <tr style=\"text-align: right;\">\n",
              "      <th></th>\n",
              "      <th>D1</th>\n",
              "      <th>D2</th>\n",
              "      <th>D3</th>\n",
              "      <th>D4</th>\n",
              "      <th>D5</th>\n",
              "    </tr>\n",
              "  </thead>\n",
              "  <tbody>\n",
              "    <tr>\n",
              "      <th>bagus</th>\n",
              "      <td>0.000000</td>\n",
              "      <td>0.000000</td>\n",
              "      <td>0.000000</td>\n",
              "      <td>0.381303</td>\n",
              "      <td>0.000000</td>\n",
              "    </tr>\n",
              "    <tr>\n",
              "      <th>baik</th>\n",
              "      <td>0.354491</td>\n",
              "      <td>0.000000</td>\n",
              "      <td>0.334119</td>\n",
              "      <td>0.000000</td>\n",
              "      <td>0.000000</td>\n",
              "    </tr>\n",
              "    <tr>\n",
              "      <th>berbeda</th>\n",
              "      <td>0.000000</td>\n",
              "      <td>0.000000</td>\n",
              "      <td>0.000000</td>\n",
              "      <td>0.000000</td>\n",
              "      <td>0.454982</td>\n",
              "    </tr>\n",
              "    <tr>\n",
              "      <th>berfungsi</th>\n",
              "      <td>0.000000</td>\n",
              "      <td>0.000000</td>\n",
              "      <td>0.414132</td>\n",
              "      <td>0.000000</td>\n",
              "      <td>0.000000</td>\n",
              "    </tr>\n",
              "    <tr>\n",
              "      <th>cepat</th>\n",
              "      <td>0.439383</td>\n",
              "      <td>0.000000</td>\n",
              "      <td>0.000000</td>\n",
              "      <td>0.000000</td>\n",
              "      <td>0.000000</td>\n",
              "    </tr>\n",
              "    <tr>\n",
              "      <th>dan</th>\n",
              "      <td>0.000000</td>\n",
              "      <td>0.000000</td>\n",
              "      <td>0.414132</td>\n",
              "      <td>0.000000</td>\n",
              "      <td>0.000000</td>\n",
              "    </tr>\n",
              "    <tr>\n",
              "      <th>dapat</th>\n",
              "      <td>0.000000</td>\n",
              "      <td>0.000000</td>\n",
              "      <td>0.000000</td>\n",
              "      <td>0.381303</td>\n",
              "      <td>0.000000</td>\n",
              "    </tr>\n",
              "    <tr>\n",
              "      <th>dengan</th>\n",
              "      <td>0.000000</td>\n",
              "      <td>0.000000</td>\n",
              "      <td>0.334119</td>\n",
              "      <td>0.000000</td>\n",
              "      <td>0.367076</td>\n",
              "    </tr>\n",
              "    <tr>\n",
              "      <th>ekspektasi</th>\n",
              "      <td>0.000000</td>\n",
              "      <td>0.000000</td>\n",
              "      <td>0.000000</td>\n",
              "      <td>0.000000</td>\n",
              "      <td>0.454982</td>\n",
              "    </tr>\n",
              "    <tr>\n",
              "      <th>gambar</th>\n",
              "      <td>0.000000</td>\n",
              "      <td>0.309768</td>\n",
              "      <td>0.000000</td>\n",
              "      <td>0.000000</td>\n",
              "      <td>0.367076</td>\n",
              "    </tr>\n",
              "    <tr>\n",
              "      <th>harga</th>\n",
              "      <td>0.000000</td>\n",
              "      <td>0.309768</td>\n",
              "      <td>0.000000</td>\n",
              "      <td>0.307633</td>\n",
              "      <td>0.000000</td>\n",
              "    </tr>\n",
              "    <tr>\n",
              "      <th>kualitas</th>\n",
              "      <td>0.439383</td>\n",
              "      <td>0.000000</td>\n",
              "      <td>0.000000</td>\n",
              "      <td>0.000000</td>\n",
              "      <td>0.000000</td>\n",
              "    </tr>\n",
              "    <tr>\n",
              "      <th>lumayan</th>\n",
              "      <td>0.000000</td>\n",
              "      <td>0.000000</td>\n",
              "      <td>0.000000</td>\n",
              "      <td>0.381303</td>\n",
              "      <td>0.000000</td>\n",
              "    </tr>\n",
              "    <tr>\n",
              "      <th>memang</th>\n",
              "      <td>0.000000</td>\n",
              "      <td>0.383949</td>\n",
              "      <td>0.000000</td>\n",
              "      <td>0.000000</td>\n",
              "      <td>0.000000</td>\n",
              "    </tr>\n",
              "    <tr>\n",
              "      <th>pengiriman</th>\n",
              "      <td>0.439383</td>\n",
              "      <td>0.000000</td>\n",
              "      <td>0.000000</td>\n",
              "      <td>0.000000</td>\n",
              "      <td>0.000000</td>\n",
              "    </tr>\n",
              "    <tr>\n",
              "      <th>penjual</th>\n",
              "      <td>0.354491</td>\n",
              "      <td>0.000000</td>\n",
              "      <td>0.334119</td>\n",
              "      <td>0.000000</td>\n",
              "      <td>0.000000</td>\n",
              "    </tr>\n",
              "    <tr>\n",
              "      <th>produk</th>\n",
              "      <td>0.209368</td>\n",
              "      <td>0.182954</td>\n",
              "      <td>0.197336</td>\n",
              "      <td>0.181693</td>\n",
              "      <td>0.216801</td>\n",
              "    </tr>\n",
              "    <tr>\n",
              "      <th>ramah</th>\n",
              "      <td>0.354491</td>\n",
              "      <td>0.000000</td>\n",
              "      <td>0.334119</td>\n",
              "      <td>0.000000</td>\n",
              "      <td>0.000000</td>\n",
              "    </tr>\n",
              "    <tr>\n",
              "      <th>responsif</th>\n",
              "      <td>0.000000</td>\n",
              "      <td>0.000000</td>\n",
              "      <td>0.414132</td>\n",
              "      <td>0.000000</td>\n",
              "      <td>0.000000</td>\n",
              "    </tr>\n",
              "    <tr>\n",
              "      <th>segini</th>\n",
              "      <td>0.000000</td>\n",
              "      <td>0.000000</td>\n",
              "      <td>0.000000</td>\n",
              "      <td>0.381303</td>\n",
              "      <td>0.000000</td>\n",
              "    </tr>\n",
              "    <tr>\n",
              "      <th>sesuai</th>\n",
              "      <td>0.000000</td>\n",
              "      <td>0.619536</td>\n",
              "      <td>0.000000</td>\n",
              "      <td>0.000000</td>\n",
              "      <td>0.367076</td>\n",
              "    </tr>\n",
              "    <tr>\n",
              "      <th>sudah</th>\n",
              "      <td>0.000000</td>\n",
              "      <td>0.000000</td>\n",
              "      <td>0.000000</td>\n",
              "      <td>0.381303</td>\n",
              "      <td>0.000000</td>\n",
              "    </tr>\n",
              "    <tr>\n",
              "      <th>tapi</th>\n",
              "      <td>0.000000</td>\n",
              "      <td>0.383949</td>\n",
              "      <td>0.000000</td>\n",
              "      <td>0.000000</td>\n",
              "      <td>0.000000</td>\n",
              "    </tr>\n",
              "    <tr>\n",
              "      <th>tidak</th>\n",
              "      <td>0.000000</td>\n",
              "      <td>0.309768</td>\n",
              "      <td>0.000000</td>\n",
              "      <td>0.000000</td>\n",
              "      <td>0.367076</td>\n",
              "    </tr>\n",
              "    <tr>\n",
              "      <th>untuk</th>\n",
              "      <td>0.000000</td>\n",
              "      <td>0.000000</td>\n",
              "      <td>0.000000</td>\n",
              "      <td>0.381303</td>\n",
              "      <td>0.000000</td>\n",
              "    </tr>\n",
              "  </tbody>\n",
              "</table>\n",
              "</div>\n",
              "      <button class=\"colab-df-convert\" onclick=\"convertToInteractive('df-b5d690d8-c3b1-41a6-8a76-6f73cadaf3b6')\"\n",
              "              title=\"Convert this dataframe to an interactive table.\"\n",
              "              style=\"display:none;\">\n",
              "        \n",
              "  <svg xmlns=\"http://www.w3.org/2000/svg\" height=\"24px\"viewBox=\"0 0 24 24\"\n",
              "       width=\"24px\">\n",
              "    <path d=\"M0 0h24v24H0V0z\" fill=\"none\"/>\n",
              "    <path d=\"M18.56 5.44l.94 2.06.94-2.06 2.06-.94-2.06-.94-.94-2.06-.94 2.06-2.06.94zm-11 1L8.5 8.5l.94-2.06 2.06-.94-2.06-.94L8.5 2.5l-.94 2.06-2.06.94zm10 10l.94 2.06.94-2.06 2.06-.94-2.06-.94-.94-2.06-.94 2.06-2.06.94z\"/><path d=\"M17.41 7.96l-1.37-1.37c-.4-.4-.92-.59-1.43-.59-.52 0-1.04.2-1.43.59L10.3 9.45l-7.72 7.72c-.78.78-.78 2.05 0 2.83L4 21.41c.39.39.9.59 1.41.59.51 0 1.02-.2 1.41-.59l7.78-7.78 2.81-2.81c.8-.78.8-2.07 0-2.86zM5.41 20L4 18.59l7.72-7.72 1.47 1.35L5.41 20z\"/>\n",
              "  </svg>\n",
              "      </button>\n",
              "      \n",
              "  <style>\n",
              "    .colab-df-container {\n",
              "      display:flex;\n",
              "      flex-wrap:wrap;\n",
              "      gap: 12px;\n",
              "    }\n",
              "\n",
              "    .colab-df-convert {\n",
              "      background-color: #E8F0FE;\n",
              "      border: none;\n",
              "      border-radius: 50%;\n",
              "      cursor: pointer;\n",
              "      display: none;\n",
              "      fill: #1967D2;\n",
              "      height: 32px;\n",
              "      padding: 0 0 0 0;\n",
              "      width: 32px;\n",
              "    }\n",
              "\n",
              "    .colab-df-convert:hover {\n",
              "      background-color: #E2EBFA;\n",
              "      box-shadow: 0px 1px 2px rgba(60, 64, 67, 0.3), 0px 1px 3px 1px rgba(60, 64, 67, 0.15);\n",
              "      fill: #174EA6;\n",
              "    }\n",
              "\n",
              "    [theme=dark] .colab-df-convert {\n",
              "      background-color: #3B4455;\n",
              "      fill: #D2E3FC;\n",
              "    }\n",
              "\n",
              "    [theme=dark] .colab-df-convert:hover {\n",
              "      background-color: #434B5C;\n",
              "      box-shadow: 0px 1px 3px 1px rgba(0, 0, 0, 0.15);\n",
              "      filter: drop-shadow(0px 1px 2px rgba(0, 0, 0, 0.3));\n",
              "      fill: #FFFFFF;\n",
              "    }\n",
              "  </style>\n",
              "\n",
              "      <script>\n",
              "        const buttonEl =\n",
              "          document.querySelector('#df-b5d690d8-c3b1-41a6-8a76-6f73cadaf3b6 button.colab-df-convert');\n",
              "        buttonEl.style.display =\n",
              "          google.colab.kernel.accessAllowed ? 'block' : 'none';\n",
              "\n",
              "        async function convertToInteractive(key) {\n",
              "          const element = document.querySelector('#df-b5d690d8-c3b1-41a6-8a76-6f73cadaf3b6');\n",
              "          const dataTable =\n",
              "            await google.colab.kernel.invokeFunction('convertToInteractive',\n",
              "                                                     [key], {});\n",
              "          if (!dataTable) return;\n",
              "\n",
              "          const docLinkHtml = 'Like what you see? Visit the ' +\n",
              "            '<a target=\"_blank\" href=https://colab.research.google.com/notebooks/data_table.ipynb>data table notebook</a>'\n",
              "            + ' to learn more about interactive tables.';\n",
              "          element.innerHTML = '';\n",
              "          dataTable['output_type'] = 'display_data';\n",
              "          await google.colab.output.renderOutput(dataTable, element);\n",
              "          const docLink = document.createElement('div');\n",
              "          docLink.innerHTML = docLinkHtml;\n",
              "          element.appendChild(docLink);\n",
              "        }\n",
              "      </script>\n",
              "    </div>\n",
              "  </div>\n",
              "  "
            ]
          },
          "metadata": {},
          "execution_count": 23
        }
      ]
    },
    {
      "cell_type": "code",
      "source": [
        "df = pd.DataFrame(result.todense().T,\n",
        "                  index=vectorizer.get_feature_names(),\n",
        "                  columns=[f\"D{i+1}\" for i in range(len(komentar))])\n",
        "df"
      ],
      "metadata": {
        "id": "wsTUnAZyjgGc",
        "colab": {
          "base_uri": "https://localhost:8080/",
          "height": 888
        },
        "outputId": "ee6e5dbe-1cbb-4a8f-c13d-8486ea3af795"
      },
      "execution_count": 24,
      "outputs": [
        {
          "output_type": "stream",
          "name": "stderr",
          "text": [
            "/usr/local/lib/python3.7/dist-packages/sklearn/utils/deprecation.py:87: FutureWarning: Function get_feature_names is deprecated; get_feature_names is deprecated in 1.0 and will be removed in 1.2. Please use get_feature_names_out instead.\n",
            "  warnings.warn(msg, category=FutureWarning)\n"
          ]
        },
        {
          "output_type": "execute_result",
          "data": {
            "text/plain": [
              "                  D1        D2        D3        D4        D5\n",
              "bagus       0.000000  0.000000  0.000000  0.381303  0.000000\n",
              "baik        0.354491  0.000000  0.334119  0.000000  0.000000\n",
              "berbeda     0.000000  0.000000  0.000000  0.000000  0.454982\n",
              "berfungsi   0.000000  0.000000  0.414132  0.000000  0.000000\n",
              "cepat       0.439383  0.000000  0.000000  0.000000  0.000000\n",
              "dan         0.000000  0.000000  0.414132  0.000000  0.000000\n",
              "dapat       0.000000  0.000000  0.000000  0.381303  0.000000\n",
              "dengan      0.000000  0.000000  0.334119  0.000000  0.367076\n",
              "ekspektasi  0.000000  0.000000  0.000000  0.000000  0.454982\n",
              "gambar      0.000000  0.309768  0.000000  0.000000  0.367076\n",
              "harga       0.000000  0.309768  0.000000  0.307633  0.000000\n",
              "kualitas    0.439383  0.000000  0.000000  0.000000  0.000000\n",
              "lumayan     0.000000  0.000000  0.000000  0.381303  0.000000\n",
              "memang      0.000000  0.383949  0.000000  0.000000  0.000000\n",
              "pengiriman  0.439383  0.000000  0.000000  0.000000  0.000000\n",
              "penjual     0.354491  0.000000  0.334119  0.000000  0.000000\n",
              "produk      0.209368  0.182954  0.197336  0.181693  0.216801\n",
              "ramah       0.354491  0.000000  0.334119  0.000000  0.000000\n",
              "responsif   0.000000  0.000000  0.414132  0.000000  0.000000\n",
              "segini      0.000000  0.000000  0.000000  0.381303  0.000000\n",
              "sesuai      0.000000  0.619536  0.000000  0.000000  0.367076\n",
              "sudah       0.000000  0.000000  0.000000  0.381303  0.000000\n",
              "tapi        0.000000  0.383949  0.000000  0.000000  0.000000\n",
              "tidak       0.000000  0.309768  0.000000  0.000000  0.367076\n",
              "untuk       0.000000  0.000000  0.000000  0.381303  0.000000"
            ],
            "text/html": [
              "\n",
              "  <div id=\"df-6ae1670c-212d-4a56-9b32-97139cacbdc2\">\n",
              "    <div class=\"colab-df-container\">\n",
              "      <div>\n",
              "<style scoped>\n",
              "    .dataframe tbody tr th:only-of-type {\n",
              "        vertical-align: middle;\n",
              "    }\n",
              "\n",
              "    .dataframe tbody tr th {\n",
              "        vertical-align: top;\n",
              "    }\n",
              "\n",
              "    .dataframe thead th {\n",
              "        text-align: right;\n",
              "    }\n",
              "</style>\n",
              "<table border=\"1\" class=\"dataframe\">\n",
              "  <thead>\n",
              "    <tr style=\"text-align: right;\">\n",
              "      <th></th>\n",
              "      <th>D1</th>\n",
              "      <th>D2</th>\n",
              "      <th>D3</th>\n",
              "      <th>D4</th>\n",
              "      <th>D5</th>\n",
              "    </tr>\n",
              "  </thead>\n",
              "  <tbody>\n",
              "    <tr>\n",
              "      <th>bagus</th>\n",
              "      <td>0.000000</td>\n",
              "      <td>0.000000</td>\n",
              "      <td>0.000000</td>\n",
              "      <td>0.381303</td>\n",
              "      <td>0.000000</td>\n",
              "    </tr>\n",
              "    <tr>\n",
              "      <th>baik</th>\n",
              "      <td>0.354491</td>\n",
              "      <td>0.000000</td>\n",
              "      <td>0.334119</td>\n",
              "      <td>0.000000</td>\n",
              "      <td>0.000000</td>\n",
              "    </tr>\n",
              "    <tr>\n",
              "      <th>berbeda</th>\n",
              "      <td>0.000000</td>\n",
              "      <td>0.000000</td>\n",
              "      <td>0.000000</td>\n",
              "      <td>0.000000</td>\n",
              "      <td>0.454982</td>\n",
              "    </tr>\n",
              "    <tr>\n",
              "      <th>berfungsi</th>\n",
              "      <td>0.000000</td>\n",
              "      <td>0.000000</td>\n",
              "      <td>0.414132</td>\n",
              "      <td>0.000000</td>\n",
              "      <td>0.000000</td>\n",
              "    </tr>\n",
              "    <tr>\n",
              "      <th>cepat</th>\n",
              "      <td>0.439383</td>\n",
              "      <td>0.000000</td>\n",
              "      <td>0.000000</td>\n",
              "      <td>0.000000</td>\n",
              "      <td>0.000000</td>\n",
              "    </tr>\n",
              "    <tr>\n",
              "      <th>dan</th>\n",
              "      <td>0.000000</td>\n",
              "      <td>0.000000</td>\n",
              "      <td>0.414132</td>\n",
              "      <td>0.000000</td>\n",
              "      <td>0.000000</td>\n",
              "    </tr>\n",
              "    <tr>\n",
              "      <th>dapat</th>\n",
              "      <td>0.000000</td>\n",
              "      <td>0.000000</td>\n",
              "      <td>0.000000</td>\n",
              "      <td>0.381303</td>\n",
              "      <td>0.000000</td>\n",
              "    </tr>\n",
              "    <tr>\n",
              "      <th>dengan</th>\n",
              "      <td>0.000000</td>\n",
              "      <td>0.000000</td>\n",
              "      <td>0.334119</td>\n",
              "      <td>0.000000</td>\n",
              "      <td>0.367076</td>\n",
              "    </tr>\n",
              "    <tr>\n",
              "      <th>ekspektasi</th>\n",
              "      <td>0.000000</td>\n",
              "      <td>0.000000</td>\n",
              "      <td>0.000000</td>\n",
              "      <td>0.000000</td>\n",
              "      <td>0.454982</td>\n",
              "    </tr>\n",
              "    <tr>\n",
              "      <th>gambar</th>\n",
              "      <td>0.000000</td>\n",
              "      <td>0.309768</td>\n",
              "      <td>0.000000</td>\n",
              "      <td>0.000000</td>\n",
              "      <td>0.367076</td>\n",
              "    </tr>\n",
              "    <tr>\n",
              "      <th>harga</th>\n",
              "      <td>0.000000</td>\n",
              "      <td>0.309768</td>\n",
              "      <td>0.000000</td>\n",
              "      <td>0.307633</td>\n",
              "      <td>0.000000</td>\n",
              "    </tr>\n",
              "    <tr>\n",
              "      <th>kualitas</th>\n",
              "      <td>0.439383</td>\n",
              "      <td>0.000000</td>\n",
              "      <td>0.000000</td>\n",
              "      <td>0.000000</td>\n",
              "      <td>0.000000</td>\n",
              "    </tr>\n",
              "    <tr>\n",
              "      <th>lumayan</th>\n",
              "      <td>0.000000</td>\n",
              "      <td>0.000000</td>\n",
              "      <td>0.000000</td>\n",
              "      <td>0.381303</td>\n",
              "      <td>0.000000</td>\n",
              "    </tr>\n",
              "    <tr>\n",
              "      <th>memang</th>\n",
              "      <td>0.000000</td>\n",
              "      <td>0.383949</td>\n",
              "      <td>0.000000</td>\n",
              "      <td>0.000000</td>\n",
              "      <td>0.000000</td>\n",
              "    </tr>\n",
              "    <tr>\n",
              "      <th>pengiriman</th>\n",
              "      <td>0.439383</td>\n",
              "      <td>0.000000</td>\n",
              "      <td>0.000000</td>\n",
              "      <td>0.000000</td>\n",
              "      <td>0.000000</td>\n",
              "    </tr>\n",
              "    <tr>\n",
              "      <th>penjual</th>\n",
              "      <td>0.354491</td>\n",
              "      <td>0.000000</td>\n",
              "      <td>0.334119</td>\n",
              "      <td>0.000000</td>\n",
              "      <td>0.000000</td>\n",
              "    </tr>\n",
              "    <tr>\n",
              "      <th>produk</th>\n",
              "      <td>0.209368</td>\n",
              "      <td>0.182954</td>\n",
              "      <td>0.197336</td>\n",
              "      <td>0.181693</td>\n",
              "      <td>0.216801</td>\n",
              "    </tr>\n",
              "    <tr>\n",
              "      <th>ramah</th>\n",
              "      <td>0.354491</td>\n",
              "      <td>0.000000</td>\n",
              "      <td>0.334119</td>\n",
              "      <td>0.000000</td>\n",
              "      <td>0.000000</td>\n",
              "    </tr>\n",
              "    <tr>\n",
              "      <th>responsif</th>\n",
              "      <td>0.000000</td>\n",
              "      <td>0.000000</td>\n",
              "      <td>0.414132</td>\n",
              "      <td>0.000000</td>\n",
              "      <td>0.000000</td>\n",
              "    </tr>\n",
              "    <tr>\n",
              "      <th>segini</th>\n",
              "      <td>0.000000</td>\n",
              "      <td>0.000000</td>\n",
              "      <td>0.000000</td>\n",
              "      <td>0.381303</td>\n",
              "      <td>0.000000</td>\n",
              "    </tr>\n",
              "    <tr>\n",
              "      <th>sesuai</th>\n",
              "      <td>0.000000</td>\n",
              "      <td>0.619536</td>\n",
              "      <td>0.000000</td>\n",
              "      <td>0.000000</td>\n",
              "      <td>0.367076</td>\n",
              "    </tr>\n",
              "    <tr>\n",
              "      <th>sudah</th>\n",
              "      <td>0.000000</td>\n",
              "      <td>0.000000</td>\n",
              "      <td>0.000000</td>\n",
              "      <td>0.381303</td>\n",
              "      <td>0.000000</td>\n",
              "    </tr>\n",
              "    <tr>\n",
              "      <th>tapi</th>\n",
              "      <td>0.000000</td>\n",
              "      <td>0.383949</td>\n",
              "      <td>0.000000</td>\n",
              "      <td>0.000000</td>\n",
              "      <td>0.000000</td>\n",
              "    </tr>\n",
              "    <tr>\n",
              "      <th>tidak</th>\n",
              "      <td>0.000000</td>\n",
              "      <td>0.309768</td>\n",
              "      <td>0.000000</td>\n",
              "      <td>0.000000</td>\n",
              "      <td>0.367076</td>\n",
              "    </tr>\n",
              "    <tr>\n",
              "      <th>untuk</th>\n",
              "      <td>0.000000</td>\n",
              "      <td>0.000000</td>\n",
              "      <td>0.000000</td>\n",
              "      <td>0.381303</td>\n",
              "      <td>0.000000</td>\n",
              "    </tr>\n",
              "  </tbody>\n",
              "</table>\n",
              "</div>\n",
              "      <button class=\"colab-df-convert\" onclick=\"convertToInteractive('df-6ae1670c-212d-4a56-9b32-97139cacbdc2')\"\n",
              "              title=\"Convert this dataframe to an interactive table.\"\n",
              "              style=\"display:none;\">\n",
              "        \n",
              "  <svg xmlns=\"http://www.w3.org/2000/svg\" height=\"24px\"viewBox=\"0 0 24 24\"\n",
              "       width=\"24px\">\n",
              "    <path d=\"M0 0h24v24H0V0z\" fill=\"none\"/>\n",
              "    <path d=\"M18.56 5.44l.94 2.06.94-2.06 2.06-.94-2.06-.94-.94-2.06-.94 2.06-2.06.94zm-11 1L8.5 8.5l.94-2.06 2.06-.94-2.06-.94L8.5 2.5l-.94 2.06-2.06.94zm10 10l.94 2.06.94-2.06 2.06-.94-2.06-.94-.94-2.06-.94 2.06-2.06.94z\"/><path d=\"M17.41 7.96l-1.37-1.37c-.4-.4-.92-.59-1.43-.59-.52 0-1.04.2-1.43.59L10.3 9.45l-7.72 7.72c-.78.78-.78 2.05 0 2.83L4 21.41c.39.39.9.59 1.41.59.51 0 1.02-.2 1.41-.59l7.78-7.78 2.81-2.81c.8-.78.8-2.07 0-2.86zM5.41 20L4 18.59l7.72-7.72 1.47 1.35L5.41 20z\"/>\n",
              "  </svg>\n",
              "      </button>\n",
              "      \n",
              "  <style>\n",
              "    .colab-df-container {\n",
              "      display:flex;\n",
              "      flex-wrap:wrap;\n",
              "      gap: 12px;\n",
              "    }\n",
              "\n",
              "    .colab-df-convert {\n",
              "      background-color: #E8F0FE;\n",
              "      border: none;\n",
              "      border-radius: 50%;\n",
              "      cursor: pointer;\n",
              "      display: none;\n",
              "      fill: #1967D2;\n",
              "      height: 32px;\n",
              "      padding: 0 0 0 0;\n",
              "      width: 32px;\n",
              "    }\n",
              "\n",
              "    .colab-df-convert:hover {\n",
              "      background-color: #E2EBFA;\n",
              "      box-shadow: 0px 1px 2px rgba(60, 64, 67, 0.3), 0px 1px 3px 1px rgba(60, 64, 67, 0.15);\n",
              "      fill: #174EA6;\n",
              "    }\n",
              "\n",
              "    [theme=dark] .colab-df-convert {\n",
              "      background-color: #3B4455;\n",
              "      fill: #D2E3FC;\n",
              "    }\n",
              "\n",
              "    [theme=dark] .colab-df-convert:hover {\n",
              "      background-color: #434B5C;\n",
              "      box-shadow: 0px 1px 3px 1px rgba(0, 0, 0, 0.15);\n",
              "      filter: drop-shadow(0px 1px 2px rgba(0, 0, 0, 0.3));\n",
              "      fill: #FFFFFF;\n",
              "    }\n",
              "  </style>\n",
              "\n",
              "      <script>\n",
              "        const buttonEl =\n",
              "          document.querySelector('#df-6ae1670c-212d-4a56-9b32-97139cacbdc2 button.colab-df-convert');\n",
              "        buttonEl.style.display =\n",
              "          google.colab.kernel.accessAllowed ? 'block' : 'none';\n",
              "\n",
              "        async function convertToInteractive(key) {\n",
              "          const element = document.querySelector('#df-6ae1670c-212d-4a56-9b32-97139cacbdc2');\n",
              "          const dataTable =\n",
              "            await google.colab.kernel.invokeFunction('convertToInteractive',\n",
              "                                                     [key], {});\n",
              "          if (!dataTable) return;\n",
              "\n",
              "          const docLinkHtml = 'Like what you see? Visit the ' +\n",
              "            '<a target=\"_blank\" href=https://colab.research.google.com/notebooks/data_table.ipynb>data table notebook</a>'\n",
              "            + ' to learn more about interactive tables.';\n",
              "          element.innerHTML = '';\n",
              "          dataTable['output_type'] = 'display_data';\n",
              "          await google.colab.output.renderOutput(dataTable, element);\n",
              "          const docLink = document.createElement('div');\n",
              "          docLink.innerHTML = docLinkHtml;\n",
              "          element.appendChild(docLink);\n",
              "        }\n",
              "      </script>\n",
              "    </div>\n",
              "  </div>\n",
              "  "
            ]
          },
          "metadata": {},
          "execution_count": 24
        }
      ]
    },
    {
      "cell_type": "markdown",
      "metadata": {
        "id": "1ODlrrrp9H3b"
      },
      "source": [
        "Kata **tidak** memiliki bobot lebih tinggi pada dokumen ke-5 daripada bobot pada dokumen ke-2"
      ]
    },
    {
      "cell_type": "code",
      "metadata": {
        "id": "gYLHzpn-1rMm"
      },
      "source": [
        ""
      ],
      "execution_count": 24,
      "outputs": []
    },
    {
      "cell_type": "markdown",
      "metadata": {
        "id": "4VvPSHL9tawr"
      },
      "source": [
        "## COSINE SIMILARITY\n",
        "\n"
      ]
    },
    {
      "cell_type": "code",
      "source": [
        "from sklearn.metrics.pairwise import cosine_similarity, cosine_distances"
      ],
      "metadata": {
        "id": "DuTYIItdRXb9"
      },
      "execution_count": 25,
      "outputs": []
    },
    {
      "cell_type": "code",
      "source": [
        "#Kalimat yang ingin dihitung cosine similaritynya \n",
        "doc1 = 'this is the first document'\n",
        "doc2 = 'this document is the second document'\n"
      ],
      "metadata": {
        "id": "JhchvQDUNDwd"
      },
      "execution_count": 26,
      "outputs": []
    },
    {
      "cell_type": "code",
      "source": [
        "import pandas as pd\n",
        "\n",
        "df = pd.DataFrame([\n",
        "        {'this': 1, 'is':1, 'first':1, 'the':1, 'document':1, 'second':0},\n",
        "        {'this': 1,'document': 2, 'is':1, 'the':1, 'second':1, 'first':0},   \n",
        "\n",
        "    ],\n",
        "    index=[\n",
        "        \"doc1\",\n",
        "        \"doc2\",\n",
        "    ])\n",
        "\n",
        "df"
      ],
      "metadata": {
        "colab": {
          "base_uri": "https://localhost:8080/",
          "height": 112
        },
        "id": "ARjsGvEIPdjg",
        "outputId": "3ebcb676-6eae-4da3-cd41-b2fd15bd49d8"
      },
      "execution_count": 27,
      "outputs": [
        {
          "output_type": "execute_result",
          "data": {
            "text/plain": [
              "      this  is  first  the  document  second\n",
              "doc1     1   1      1    1         1       0\n",
              "doc2     1   1      0    1         2       1"
            ],
            "text/html": [
              "\n",
              "  <div id=\"df-890ccd38-621c-4923-931f-9553c9e82d4d\">\n",
              "    <div class=\"colab-df-container\">\n",
              "      <div>\n",
              "<style scoped>\n",
              "    .dataframe tbody tr th:only-of-type {\n",
              "        vertical-align: middle;\n",
              "    }\n",
              "\n",
              "    .dataframe tbody tr th {\n",
              "        vertical-align: top;\n",
              "    }\n",
              "\n",
              "    .dataframe thead th {\n",
              "        text-align: right;\n",
              "    }\n",
              "</style>\n",
              "<table border=\"1\" class=\"dataframe\">\n",
              "  <thead>\n",
              "    <tr style=\"text-align: right;\">\n",
              "      <th></th>\n",
              "      <th>this</th>\n",
              "      <th>is</th>\n",
              "      <th>first</th>\n",
              "      <th>the</th>\n",
              "      <th>document</th>\n",
              "      <th>second</th>\n",
              "    </tr>\n",
              "  </thead>\n",
              "  <tbody>\n",
              "    <tr>\n",
              "      <th>doc1</th>\n",
              "      <td>1</td>\n",
              "      <td>1</td>\n",
              "      <td>1</td>\n",
              "      <td>1</td>\n",
              "      <td>1</td>\n",
              "      <td>0</td>\n",
              "    </tr>\n",
              "    <tr>\n",
              "      <th>doc2</th>\n",
              "      <td>1</td>\n",
              "      <td>1</td>\n",
              "      <td>0</td>\n",
              "      <td>1</td>\n",
              "      <td>2</td>\n",
              "      <td>1</td>\n",
              "    </tr>\n",
              "  </tbody>\n",
              "</table>\n",
              "</div>\n",
              "      <button class=\"colab-df-convert\" onclick=\"convertToInteractive('df-890ccd38-621c-4923-931f-9553c9e82d4d')\"\n",
              "              title=\"Convert this dataframe to an interactive table.\"\n",
              "              style=\"display:none;\">\n",
              "        \n",
              "  <svg xmlns=\"http://www.w3.org/2000/svg\" height=\"24px\"viewBox=\"0 0 24 24\"\n",
              "       width=\"24px\">\n",
              "    <path d=\"M0 0h24v24H0V0z\" fill=\"none\"/>\n",
              "    <path d=\"M18.56 5.44l.94 2.06.94-2.06 2.06-.94-2.06-.94-.94-2.06-.94 2.06-2.06.94zm-11 1L8.5 8.5l.94-2.06 2.06-.94-2.06-.94L8.5 2.5l-.94 2.06-2.06.94zm10 10l.94 2.06.94-2.06 2.06-.94-2.06-.94-.94-2.06-.94 2.06-2.06.94z\"/><path d=\"M17.41 7.96l-1.37-1.37c-.4-.4-.92-.59-1.43-.59-.52 0-1.04.2-1.43.59L10.3 9.45l-7.72 7.72c-.78.78-.78 2.05 0 2.83L4 21.41c.39.39.9.59 1.41.59.51 0 1.02-.2 1.41-.59l7.78-7.78 2.81-2.81c.8-.78.8-2.07 0-2.86zM5.41 20L4 18.59l7.72-7.72 1.47 1.35L5.41 20z\"/>\n",
              "  </svg>\n",
              "      </button>\n",
              "      \n",
              "  <style>\n",
              "    .colab-df-container {\n",
              "      display:flex;\n",
              "      flex-wrap:wrap;\n",
              "      gap: 12px;\n",
              "    }\n",
              "\n",
              "    .colab-df-convert {\n",
              "      background-color: #E8F0FE;\n",
              "      border: none;\n",
              "      border-radius: 50%;\n",
              "      cursor: pointer;\n",
              "      display: none;\n",
              "      fill: #1967D2;\n",
              "      height: 32px;\n",
              "      padding: 0 0 0 0;\n",
              "      width: 32px;\n",
              "    }\n",
              "\n",
              "    .colab-df-convert:hover {\n",
              "      background-color: #E2EBFA;\n",
              "      box-shadow: 0px 1px 2px rgba(60, 64, 67, 0.3), 0px 1px 3px 1px rgba(60, 64, 67, 0.15);\n",
              "      fill: #174EA6;\n",
              "    }\n",
              "\n",
              "    [theme=dark] .colab-df-convert {\n",
              "      background-color: #3B4455;\n",
              "      fill: #D2E3FC;\n",
              "    }\n",
              "\n",
              "    [theme=dark] .colab-df-convert:hover {\n",
              "      background-color: #434B5C;\n",
              "      box-shadow: 0px 1px 3px 1px rgba(0, 0, 0, 0.15);\n",
              "      filter: drop-shadow(0px 1px 2px rgba(0, 0, 0, 0.3));\n",
              "      fill: #FFFFFF;\n",
              "    }\n",
              "  </style>\n",
              "\n",
              "      <script>\n",
              "        const buttonEl =\n",
              "          document.querySelector('#df-890ccd38-621c-4923-931f-9553c9e82d4d button.colab-df-convert');\n",
              "        buttonEl.style.display =\n",
              "          google.colab.kernel.accessAllowed ? 'block' : 'none';\n",
              "\n",
              "        async function convertToInteractive(key) {\n",
              "          const element = document.querySelector('#df-890ccd38-621c-4923-931f-9553c9e82d4d');\n",
              "          const dataTable =\n",
              "            await google.colab.kernel.invokeFunction('convertToInteractive',\n",
              "                                                     [key], {});\n",
              "          if (!dataTable) return;\n",
              "\n",
              "          const docLinkHtml = 'Like what you see? Visit the ' +\n",
              "            '<a target=\"_blank\" href=https://colab.research.google.com/notebooks/data_table.ipynb>data table notebook</a>'\n",
              "            + ' to learn more about interactive tables.';\n",
              "          element.innerHTML = '';\n",
              "          dataTable['output_type'] = 'display_data';\n",
              "          await google.colab.output.renderOutput(dataTable, element);\n",
              "          const docLink = document.createElement('div');\n",
              "          docLink.innerHTML = docLinkHtml;\n",
              "          element.appendChild(docLink);\n",
              "        }\n",
              "      </script>\n",
              "    </div>\n",
              "  </div>\n",
              "  "
            ]
          },
          "metadata": {},
          "execution_count": 27
        }
      ]
    },
    {
      "cell_type": "code",
      "source": [
        "df.loc[\"doc1\":\"doc1\"]"
      ],
      "metadata": {
        "colab": {
          "base_uri": "https://localhost:8080/",
          "height": 81
        },
        "id": "czKcDiAWRjUf",
        "outputId": "a19891b5-88c4-494b-bd71-e1349c877f99"
      },
      "execution_count": 28,
      "outputs": [
        {
          "output_type": "execute_result",
          "data": {
            "text/plain": [
              "      this  is  first  the  document  second\n",
              "doc1     1   1      1    1         1       0"
            ],
            "text/html": [
              "\n",
              "  <div id=\"df-5204f750-c19a-415a-be11-9e7f3426a1d7\">\n",
              "    <div class=\"colab-df-container\">\n",
              "      <div>\n",
              "<style scoped>\n",
              "    .dataframe tbody tr th:only-of-type {\n",
              "        vertical-align: middle;\n",
              "    }\n",
              "\n",
              "    .dataframe tbody tr th {\n",
              "        vertical-align: top;\n",
              "    }\n",
              "\n",
              "    .dataframe thead th {\n",
              "        text-align: right;\n",
              "    }\n",
              "</style>\n",
              "<table border=\"1\" class=\"dataframe\">\n",
              "  <thead>\n",
              "    <tr style=\"text-align: right;\">\n",
              "      <th></th>\n",
              "      <th>this</th>\n",
              "      <th>is</th>\n",
              "      <th>first</th>\n",
              "      <th>the</th>\n",
              "      <th>document</th>\n",
              "      <th>second</th>\n",
              "    </tr>\n",
              "  </thead>\n",
              "  <tbody>\n",
              "    <tr>\n",
              "      <th>doc1</th>\n",
              "      <td>1</td>\n",
              "      <td>1</td>\n",
              "      <td>1</td>\n",
              "      <td>1</td>\n",
              "      <td>1</td>\n",
              "      <td>0</td>\n",
              "    </tr>\n",
              "  </tbody>\n",
              "</table>\n",
              "</div>\n",
              "      <button class=\"colab-df-convert\" onclick=\"convertToInteractive('df-5204f750-c19a-415a-be11-9e7f3426a1d7')\"\n",
              "              title=\"Convert this dataframe to an interactive table.\"\n",
              "              style=\"display:none;\">\n",
              "        \n",
              "  <svg xmlns=\"http://www.w3.org/2000/svg\" height=\"24px\"viewBox=\"0 0 24 24\"\n",
              "       width=\"24px\">\n",
              "    <path d=\"M0 0h24v24H0V0z\" fill=\"none\"/>\n",
              "    <path d=\"M18.56 5.44l.94 2.06.94-2.06 2.06-.94-2.06-.94-.94-2.06-.94 2.06-2.06.94zm-11 1L8.5 8.5l.94-2.06 2.06-.94-2.06-.94L8.5 2.5l-.94 2.06-2.06.94zm10 10l.94 2.06.94-2.06 2.06-.94-2.06-.94-.94-2.06-.94 2.06-2.06.94z\"/><path d=\"M17.41 7.96l-1.37-1.37c-.4-.4-.92-.59-1.43-.59-.52 0-1.04.2-1.43.59L10.3 9.45l-7.72 7.72c-.78.78-.78 2.05 0 2.83L4 21.41c.39.39.9.59 1.41.59.51 0 1.02-.2 1.41-.59l7.78-7.78 2.81-2.81c.8-.78.8-2.07 0-2.86zM5.41 20L4 18.59l7.72-7.72 1.47 1.35L5.41 20z\"/>\n",
              "  </svg>\n",
              "      </button>\n",
              "      \n",
              "  <style>\n",
              "    .colab-df-container {\n",
              "      display:flex;\n",
              "      flex-wrap:wrap;\n",
              "      gap: 12px;\n",
              "    }\n",
              "\n",
              "    .colab-df-convert {\n",
              "      background-color: #E8F0FE;\n",
              "      border: none;\n",
              "      border-radius: 50%;\n",
              "      cursor: pointer;\n",
              "      display: none;\n",
              "      fill: #1967D2;\n",
              "      height: 32px;\n",
              "      padding: 0 0 0 0;\n",
              "      width: 32px;\n",
              "    }\n",
              "\n",
              "    .colab-df-convert:hover {\n",
              "      background-color: #E2EBFA;\n",
              "      box-shadow: 0px 1px 2px rgba(60, 64, 67, 0.3), 0px 1px 3px 1px rgba(60, 64, 67, 0.15);\n",
              "      fill: #174EA6;\n",
              "    }\n",
              "\n",
              "    [theme=dark] .colab-df-convert {\n",
              "      background-color: #3B4455;\n",
              "      fill: #D2E3FC;\n",
              "    }\n",
              "\n",
              "    [theme=dark] .colab-df-convert:hover {\n",
              "      background-color: #434B5C;\n",
              "      box-shadow: 0px 1px 3px 1px rgba(0, 0, 0, 0.15);\n",
              "      filter: drop-shadow(0px 1px 2px rgba(0, 0, 0, 0.3));\n",
              "      fill: #FFFFFF;\n",
              "    }\n",
              "  </style>\n",
              "\n",
              "      <script>\n",
              "        const buttonEl =\n",
              "          document.querySelector('#df-5204f750-c19a-415a-be11-9e7f3426a1d7 button.colab-df-convert');\n",
              "        buttonEl.style.display =\n",
              "          google.colab.kernel.accessAllowed ? 'block' : 'none';\n",
              "\n",
              "        async function convertToInteractive(key) {\n",
              "          const element = document.querySelector('#df-5204f750-c19a-415a-be11-9e7f3426a1d7');\n",
              "          const dataTable =\n",
              "            await google.colab.kernel.invokeFunction('convertToInteractive',\n",
              "                                                     [key], {});\n",
              "          if (!dataTable) return;\n",
              "\n",
              "          const docLinkHtml = 'Like what you see? Visit the ' +\n",
              "            '<a target=\"_blank\" href=https://colab.research.google.com/notebooks/data_table.ipynb>data table notebook</a>'\n",
              "            + ' to learn more about interactive tables.';\n",
              "          element.innerHTML = '';\n",
              "          dataTable['output_type'] = 'display_data';\n",
              "          await google.colab.output.renderOutput(dataTable, element);\n",
              "          const docLink = document.createElement('div');\n",
              "          docLink.innerHTML = docLinkHtml;\n",
              "          element.appendChild(docLink);\n",
              "        }\n",
              "      </script>\n",
              "    </div>\n",
              "  </div>\n",
              "  "
            ]
          },
          "metadata": {},
          "execution_count": 28
        }
      ]
    },
    {
      "cell_type": "code",
      "source": [
        "cosine_similarity(df.loc[\"doc1\":\"doc1\"],df.loc[\"doc2\":\"doc2\"])"
      ],
      "metadata": {
        "colab": {
          "base_uri": "https://localhost:8080/"
        },
        "id": "sE5QA354RmSq",
        "outputId": "a24fcd92-237d-4ba5-dd86-d810c087c339"
      },
      "execution_count": 29,
      "outputs": [
        {
          "output_type": "execute_result",
          "data": {
            "text/plain": [
              "array([[0.79056942]])"
            ]
          },
          "metadata": {},
          "execution_count": 29
        }
      ]
    },
    {
      "cell_type": "markdown",
      "metadata": {
        "id": "cjDtFEQ-WeIM"
      },
      "source": [
        "## LATIHAN\n",
        "\n"
      ]
    },
    {
      "cell_type": "markdown",
      "source": [
        "1.  Hitung TF_IDF pada contoh kalimat yang digunakan pada cosine similarity \n",
        "2.   Hitung cosine similarity pada kalimat berikut: \n",
        "\n",
        "*   Pengiriman dan kualitas produk sangat baik\n",
        "*  Produk tidak sesuai gambar tapi memang sesuai harga\n",
        "*   tidak sesuai ekspektasi produk berbeda dengan gambar\n",
        "\n",
        "\n",
        "\n"
      ],
      "metadata": {
        "id": "FnKlIlrJWmb3"
      }
    },
    {
      "cell_type": "code",
      "source": [
        ""
      ],
      "metadata": {
        "id": "5mGU67xYXBES"
      },
      "execution_count": 29,
      "outputs": []
    }
  ]
}